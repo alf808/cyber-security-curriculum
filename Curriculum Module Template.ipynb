{
 "cells": [
  {
   "cell_type": "markdown",
   "metadata": {},
   "source": [
    "# Curriculum Module Template\n",
    "\n",
    "#### 1. Topics/Sub-Topics\n",
    "For each module, there should be a high level topic identified that is the core focus of the module. Any sub-topics, soft skills or other areas of focus that should be touched upon in this module should be detailed. Suggest to keep the objective of a module small in scope for flexiblity in order of delivery in a course format.\n",
    "\n",
    "    - Topic\n",
    "        - Sub Topic\n",
    "    - Topic\n",
    "        - Sub Topic\n",
    "    - Topic\n",
    "    - Topic\n",
    "\n",
    "#### 2. Pre-requisites\n",
    "Any prior knowledge or specific topics that are needed to operate this module should be identified here.\n",
    "\n",
    "\n",
    "\n",
    "\n",
    "#### 3. Desired Outcomes\n",
    "A list of desired outcomes should be identified to determine what metrics are considered for success or completion of the module.\n",
    "\n",
    "#### 4. Resources\n",
    "Any resources that are helpful for instruction, delivery, instructor onboarding, student research should be identified here by intent and location.\n",
    "\n",
    "    - Instructor Slideshow - http://slides.com/some-slideshow\n",
    "    - Student Reading on xxx - http://some.website.com/good-resource\n",
    "\n",
    "#### 5. Challenges/Exercises\n",
    "List of challenges, ideas or exercises that can be executed in delivery of this module. List can include prior exercises as well as potential ideas and links to other resources.\n",
    "    \n",
    "    - Hands-on Exercise - http://github.com/devleague/some-exercise\n",
    "    - IDEA: Have students HACK THE PLANET\n",
    "\n",
    "#### 6. Self Study Objectives\n",
    "Any self-study assignments or resources that students should complete on their own time outside of class should be identified here along with the suggested time that should be devoted to that resource. Items here should be validated and have consensus among staff as being valuable. Any deliverable by the student should also be identified.\n",
    "\n",
    "    - How to HACK THE PLANET - http://youtube.com/some-great-video - 2 hours\n",
    "    - Great Book, Chapter 10 - 2 hours\n",
    "        - Due: Blog assignment on concept in Great Book Chapter 10 on Medium.com\n",
    "\n",
    "#### 7. Estimated Time\n",
    "\n",
    "#### 8. Applicable Standards\n",
    "If there are any publicly available standards that can be mapped to this module they should be identified here.\n",
    "    - NIST 178 - Communicate with human superior\n",
    "\n"
   ]
  },
  {
   "cell_type": "code",
   "execution_count": null,
   "metadata": {
    "collapsed": true
   },
   "outputs": [],
   "source": []
  }
 ],
 "metadata": {
  "kernelspec": {
   "display_name": "Python 3",
   "language": "python",
   "name": "python3"
  },
  "language_info": {
   "codemirror_mode": {
    "name": "ipython",
    "version": 3
   },
   "file_extension": ".py",
   "mimetype": "text/x-python",
   "name": "python",
   "nbconvert_exporter": "python",
   "pygments_lexer": "ipython3",
   "version": "3.6.2"
  }
 },
 "nbformat": 4,
 "nbformat_minor": 2
}
