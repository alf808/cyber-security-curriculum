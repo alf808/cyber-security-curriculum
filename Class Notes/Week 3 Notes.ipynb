{
 "cells": [
  {
   "cell_type": "markdown",
   "metadata": {},
   "source": [
    "# Week 3 Notes\n",
    "\n",
    "### Monday 11/27/17 6-10pm\n",
    "\n",
    "### Intro (6:20-7:30)\n",
    "- Download Virtualbox guest eddition and mount it to your vm (Allows for full screen)\n",
    "- Download Ubuntu image\n",
    "- Should have Windows 7 & 10 images installed and ready\n",
    "\n",
    "### Lecture (7:40-9\"40)\n",
    "- Users and groups \n",
    "- Password policies\n",
    "- Different groups\n",
    "ADD MODULES HERE \n",
    "\n",
    "### Extra Stuff\n",
    "- Help with github between vm's\n"
   ]
  }
 ],
 "metadata": {
  "kernelspec": {
   "display_name": "Python 3",
   "language": "python",
   "name": "python3"
  },
  "language_info": {
   "codemirror_mode": {
    "name": "ipython",
    "version": 3
   },
   "file_extension": ".py",
   "mimetype": "text/x-python",
   "name": "python",
   "nbconvert_exporter": "python",
   "pygments_lexer": "ipython3",
   "version": "3.6.3"
  }
 },
 "nbformat": 4,
 "nbformat_minor": 2
}
