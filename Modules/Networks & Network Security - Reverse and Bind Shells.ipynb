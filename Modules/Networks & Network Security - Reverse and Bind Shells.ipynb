{
 "cells": [
  {
   "cell_type": "markdown",
   "metadata": {},
   "source": [
    "# Reverse Shells\n",
    "\n",
    "#### Pre-requisites\n",
    "- TCP/IP knowledge\n",
    "- Basics of Networking\n",
    "- Knowledge of what a shell is\n",
    "\n",
    "#### 1. Topics/Sub-Topics\n",
    "\n",
    "##### What is a reverse shell?\n",
    "\"A reverse shell is a type of shell in which the target machine communicates back to the attacking machine. The attacking machine has a listener port on which it receives the connection, which by using, code or command execution is achieved.\"\n",
    "\n",
    "##### What is a bind shell?\n",
    "\"Bind shell is a type of shell in which the target machine opens up a communication port or a listener on the victim machine and waits for an incoming connection. The attacker then connects to the victim machine’s listener which then leads to code or command execution on the server.\"\n",
    "\n",
    "#### 2. Pre-requisites\n",
    "\n",
    "#### 3. Desired Outcomes\n",
    "\n",
    "#### 4. Resources\n",
    "- https://www.sans.edu/student-files/presentations/LVReverseShell.pdf\n",
    "\n",
    "#### 5. Challenges/Exercises\n",
    "\n",
    "#### 6. Self Study Objectives\n",
    "\n",
    "#### 7. Estimated Time\n",
    "\n",
    "#### 8. Applicable Standards\n",
    "\n"
   ]
  }
 ],
 "metadata": {
  "kernelspec": {
   "display_name": "Python 3",
   "language": "python",
   "name": "python3"
  },
  "language_info": {
   "codemirror_mode": {
    "name": "ipython",
    "version": 3
   },
   "file_extension": ".py",
   "mimetype": "text/x-python",
   "name": "python",
   "nbconvert_exporter": "python",
   "pygments_lexer": "ipython3",
   "version": "3.6.2"
  }
 },
 "nbformat": 4,
 "nbformat_minor": 2
}
