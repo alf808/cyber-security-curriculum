{
 "cells": [
  {
   "cell_type": "markdown",
   "metadata": {},
   "source": [
    "# Application Security - Test Driven Security\n",
    "\n",
    "#### 1. Topics/Sub-Topics\n",
    "\n",
    "    - DevOps Pipeline\n",
    "        - Level 1 Infrastructure\n",
    "            - Define a baseline\n",
    "            - Test the baseline\n",
    "            - Run tests continously\n",
    "            - Require tests to pass to continue to production\n",
    "        - Level 2 Development\n",
    "            - \n",
    "        - Level 3 Security Headers\n",
    "        - Level 4 Security Features\n",
    "\n",
    "\n",
    "#### 2. Pre-requisites\n",
    "\n",
    "\n",
    "#### 3. Desired Outcomes\n",
    "\n",
    "\n",
    "#### 4. Resources\n",
    "\n",
    "    - [Test Driven Security in the DevOps Pipeline](https://www.youtube.com/watch?v=1Nlbf7XXn7s)\n",
    "    - [OWASP Zed Attack Proxy Project/ZAP](https://www.owasp.org/index.php/OWASP_Zed_Attack_Proxy_Project)\n",
    "\n",
    "#### 5. Challenges/Exercises\n",
    "\n",
    "#### 6. Self Study Objectives\n",
    "\n",
    "#### 7. Estimated Time\n",
    "\n",
    "#### 8. Applicable Standards\n",
    "If there are any publicly available standards that can be mapped to this module they should be identified here.\n",
    "    - NIST 178 - Communicate with human superior\n",
    "\n"
   ]
  }
 ],
 "metadata": {
  "kernelspec": {
   "display_name": "Python 3",
   "language": "python",
   "name": "python3"
  },
  "language_info": {
   "codemirror_mode": {
    "name": "ipython",
    "version": 3
   },
   "file_extension": ".py",
   "mimetype": "text/x-python",
   "name": "python",
   "nbconvert_exporter": "python",
   "pygments_lexer": "ipython3",
   "version": "3.6.2"
  }
 },
 "nbformat": 4,
 "nbformat_minor": 2
}
