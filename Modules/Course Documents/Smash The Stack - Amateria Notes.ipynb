{
 "cells": [
  {
   "cell_type": "markdown",
   "metadata": {},
   "source": [
    "# Amateria\n",
    "\n",
    "### Level 0\n",
    "\n",
    "- `Password is: boink`\n",
    "\n",
    "### Level 1\n",
    "- `ssh -p2229 level1@amateria.smashthestack.org`\n",
    "- Find the level 1 wargame\n",
    "    - `ll /wargame`\n",
    "    - Notice `lolgdb.c` and `lolgdb` with `level1` group permissions\n",
    "    - `cat lolgdb.c` and `/wargame/lolgdb` to inspect both\n",
    "- Run the compiled source in debugger\n",
    "    - `gdb /wargame/lolgdb` to go into debugger\n",
    "- Find the start of the buffer\n",
    "    - `disas main`\n",
    "    - Note `call` method\n",
    "\n",
    "### Level 2\n",
    "\n",
    "### Level 3\n"
   ]
  }
 ],
 "metadata": {
  "kernelspec": {
   "display_name": "Python 3",
   "language": "python",
   "name": "python3"
  },
  "language_info": {
   "codemirror_mode": {
    "name": "ipython",
    "version": 3
   },
   "file_extension": ".py",
   "mimetype": "text/x-python",
   "name": "python",
   "nbconvert_exporter": "python",
   "pygments_lexer": "ipython3",
   "version": "3.6.2"
  }
 },
 "nbformat": 4,
 "nbformat_minor": 2
}
