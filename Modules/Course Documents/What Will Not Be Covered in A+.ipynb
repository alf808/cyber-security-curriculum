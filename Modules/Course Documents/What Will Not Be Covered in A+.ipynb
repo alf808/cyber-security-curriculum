{
 "cells": [
  {
   "cell_type": "markdown",
   "metadata": {},
   "source": [
    "# What we will not cover in A+\n",
    "\n",
    "If your goal is to take and pass the A+ exams (220-901 & 220-902) then it is recommended that you read this book from front to cover. However, in this class we will not be covering everything in the book(s). Below is a list of what we will NOT be covering in the A+ book! This is also subject to change.\n",
    "\n",
    "\n",
    "- **Chapter 4: Microprocessors**\n",
    "    - Quartz Oscillator (pg. 104)\n",
    "    - Wire addresses (pg. 110)\n",
    "    - Integrated Memory Controller \n",
    "    - Overlocking \n",
    "- **Chapter 5: RAM**\n",
    "    - Single-, dual-, and triple-channel memory architectures\n",
    "    - Installing SO-DIMMS in laptops \n",
    "    - ReadyBoost    \n",
    "- **Chapter 7: Motherboards**\n",
    "    - For the exam you will need to know the various motherboard expansion slots for the comptia 220-901 exam, especially PCIe. Be sure you are also familiar with PCI, PCI-X, Mini-PCI, and Mini-PCIe (pg. 245- 246)  \n",
    "- **Chapter 8: Power Supplies**\n",
    "    - (pg. 273-276, pg. 289- 313)  \n",
    "- **Chapter 9- Hard Drive Technologies**\n",
    "    - Parallel and Serial ATA (pg. 318)\n",
    "    \n",
    "- **Chapter 11: Essential Peripherals**\n",
    "\n",
    "- **Chapter 12: Building a PC**\n",
    "    - Specialized custom PC’s (pg. 475- 491)\n",
    "    \n",
    "- **Chapter 13: Windows Under the Hood**\n",
    "    - Data collector sets (pg.553)\n",
    "    - Component Service (pg. 554)\n",
    "    - Data Source (pg. 555)\n",
    "    \n",
    "- **Chapter 14: Users Groups and Permissions**\n",
    "\n",
    "- **Managing User accounts in Windows vista**\n",
    "    - UAC (pg. 602)\n",
    "    \n",
    "- **Chapter 17: Troubleshooting Operating Systems**\n",
    "    - Potentially we won’t go over all types of troubleshooting \n",
    "    - Chapter 19- Display Technologies (pg. 797)\n",
    "    \n",
    "- **Chapter 27: Printers**\n",
    "\n",
    "- **Mobile Devices-  Some information about mobile devices will be covered later on in the Cyber Security Section**\n",
    "    - Chapter 24 (pg. 1045)\n",
    "    - Chapter 25 (pg. 1099)\n",
    "    - Chapter 26 (pg. 1147)\n",
    "\n",
    "- **Networking- Networking will be covered in our networking module**\n",
    "    - Chapter 20 (pg. 859)\n",
    "    - Chapter 21 (pg. 895)\n",
    "    - Chapter 22 (pg. 945)\n",
    "    - Chapter 23 (pg. 983)\n",
    "\n",
    "- **Security- Some might be covered later on once we cover more security**\n",
    "    - Chapter 28 Will be cover this in Security + (pg. 1231)\n",
    "\n"
   ]
  }
 ],
 "metadata": {
  "kernelspec": {
   "display_name": "Python 3",
   "language": "python",
   "name": "python3"
  },
  "language_info": {
   "codemirror_mode": {
    "name": "ipython",
    "version": 3
   },
   "file_extension": ".py",
   "mimetype": "text/x-python",
   "name": "python",
   "nbconvert_exporter": "python",
   "pygments_lexer": "ipython3",
   "version": "3.6.3"
  }
 },
 "nbformat": 4,
 "nbformat_minor": 2
}
