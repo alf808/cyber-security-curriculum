{
 "cells": [
  {
   "cell_type": "markdown",
   "metadata": {},
   "source": [
    "# Week 1 Study Goals\n",
    "\n",
    "#### What you should know by the end of Week 1: \n",
    "\n",
    "#### Know:\n",
    "You should be able to identify the main components of a computer (CPU, Microprocessors, Motherboard, Power Supply, RAM, BIOS), explain what they do, how they interact together,  where they go inside the computer tower and maybe some basic troubleshooting.\n",
    "\n",
    "#### Do:\n",
    "Build/take apart computer and put it back together. Identify components and troubleshoot if necessary to have a working machine. \n",
    "\n",
    "#### Understand:\n",
    "Chapter 1 & 2 before Tuesday\n",
    "Chapters 4,5,7, 8 (pg. 274- 289, 297 Installing Power Supplies - 299) before Saturday class\n",
    "\n",
    "#### Hours Spent\n",
    "In class-  17 hours \n",
    "On Your Own- 8 hours  (about 4 hours read time +  4 hours note taking, backlog, and quizzes)\n"
   ]
  }
 ],
 "metadata": {
  "kernelspec": {
   "display_name": "Python 3",
   "language": "python",
   "name": "python3"
  },
  "language_info": {
   "codemirror_mode": {
    "name": "ipython",
    "version": 3
   },
   "file_extension": ".py",
   "mimetype": "text/x-python",
   "name": "python",
   "nbconvert_exporter": "python",
   "pygments_lexer": "ipython3",
   "version": "3.6.3"
  }
 },
 "nbformat": 4,
 "nbformat_minor": 2
}
