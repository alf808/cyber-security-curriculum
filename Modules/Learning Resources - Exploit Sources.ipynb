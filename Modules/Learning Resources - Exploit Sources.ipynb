{
 "cells": [
  {
   "cell_type": "markdown",
   "metadata": {},
   "source": [
    "# Learning Resources\n",
    "This is a collection of resources for all things Cybersecurity related for keeping track of. Please organize appropriately :)\n",
    "    \n",
    "### Exploit Sources\n",
    "\n",
    "- [Memcrashed](https://github.com/649/Memcrashed-DDoS-Exploit)\n",
    "- [Shadow Brokers Dump](https://github.com/misterch0c/shadowbroker)\n",
    "- [Eternal Blue]()\n",
    "- [Mimikatz](https://github.com/gentilkiwi/mimikatz)"
   ]
  }
 ],
 "metadata": {
  "kernelspec": {
   "display_name": "Python 3",
   "language": "python",
   "name": "python3"
  },
  "language_info": {
   "codemirror_mode": {
    "name": "ipython",
    "version": 3
   },
   "file_extension": ".py",
   "mimetype": "text/x-python",
   "name": "python",
   "nbconvert_exporter": "python",
   "pygments_lexer": "ipython3",
   "version": "3.6.2"
  }
 },
 "nbformat": 4,
 "nbformat_minor": 2
}
