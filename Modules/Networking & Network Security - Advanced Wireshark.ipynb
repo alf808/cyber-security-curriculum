{
 "cells": [
  {
   "cell_type": "markdown",
   "metadata": {},
   "source": [
    "# Advanced Wireshark\n",
    "\n",
    "#### 0. Pre-requisites\n",
    "\n",
    "\n",
    "\n",
    "#### 1. Topics/Sub-Topics\n",
    "\n",
    "- https://www.howtogeek.com/106191/5-killer-tricks-to-get-the-most-out-of-wireshark/\n",
    "    - Domain Name Resolution\n",
    "    - Capture over SSH\n",
    "        - `ssh localhost -p 14601 -l jane \"sudo tcpdump -s 0 -i any -w - \" | wireshark -k -i -`\n",
    "    - Terminal Capture\n",
    "    - Firewall Rule Generation\n",
    "- Detecting offending traffic\n",
    "\n",
    "#### 2. Pre-requisites\n",
    "- Basic understanding of Wireshark\n",
    "\n",
    "\n",
    "#### 3. Desired Outcomes\n",
    "\n",
    "#### 4. Resources\n",
    "- http://chrissanders.org/captures/\n",
    "- http://www.win10pcap.org/\n",
    "- https://www.androidauthority.com/capture-data-open-wi-fi-726356/\n",
    "- http://www.kalilinuxhack.com/2015/11/how-to-sniffing-network-using-kali-linux-2.0.html\n",
    "- https://danielmiessler.com/study/tcpdump\n",
    "- https://www.sans.org/reading-room/whitepapers/tools/extracting-files-network-packet-captures-36562\n",
    "\n",
    "\n",
    "#### 5. Challenges/Exercises\n",
    "    \n",
    "    - Hands-on Exercise - Use Nmap and Wireshark to determine what is the volume of packets sent to a host to determine the stealthiest way to scan a network\n",
    "    - Hands-on Exercise - Setup a telnet connection and sniff traffic to extract password\n",
    "        - Filter on `telnet`\n",
    "    - Hands-on Exercise - Setup an FTP server and connection and sniff traffic to extract password\n",
    "        - Filter on `ftp`\n",
    "    - Hands-on Exercise - Browse some HTTP/HTTPS sites and analyze traffic and extract files\n",
    "        - Filter on `http`\n",
    "        - Extract image by export raw data context menu on packet\n",
    "    - Hands-on Exercise - Setup an HTTP server with Basic authentication and sniff traffic to show HTTP header information\n",
    "    - Hands-on Exercise - Sniff traffic on SSH session and analyze the sequence of events.\n",
    "        - Filter on `ssh`\n",
    "        - Analyze sequences in handshake\n",
    "    - Hands-on Exercise - Setup Monitor mode interface and inspect new 802.11 view\n",
    "        - Filter by `wlan`\n",
    "        - Filter by mac address with `wlan.addr == xx.xx.xx.xx.xx.xx`\n",
    "        - https://wiki.wireshark.org/Wi-Fi\n",
    "        - Analyze structure of a beacon frame?\n",
    "        - Inspect channels, SSID, etc...\n",
    "    - Hands-on Exercise - Setup SSH tunneling to Wireshark\n",
    "    \n",
    "\n",
    "#### 6. Self Study Objectives\n",
    "\n",
    "#### 7. Estimated Time\n",
    "\n",
    "#### 8. Applicable Standards\n",
    "\n",
    "\n"
   ]
  },
  {
   "cell_type": "code",
   "execution_count": null,
   "metadata": {
    "collapsed": true
   },
   "outputs": [],
   "source": []
  }
 ],
 "metadata": {
  "kernelspec": {
   "display_name": "Python 3",
   "language": "python",
   "name": "python3"
  },
  "language_info": {
   "codemirror_mode": {
    "name": "ipython",
    "version": 3
   },
   "file_extension": ".py",
   "mimetype": "text/x-python",
   "name": "python",
   "nbconvert_exporter": "python",
   "pygments_lexer": "ipython3",
   "version": "3.6.2"
  }
 },
 "nbformat": 4,
 "nbformat_minor": 2
}
