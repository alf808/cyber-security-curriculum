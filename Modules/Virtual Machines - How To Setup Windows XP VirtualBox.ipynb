{
 "cells": [
  {
   "cell_type": "markdown",
   "metadata": {},
   "source": [
    "# How To Setup Windows XP in Virtualbox\n",
    "\n",
    "### What You Will Need\n",
    "All needed files are located here including the extracted VirtualXPvhd.master: https://drive.google.com/drive/u/1/folders/0B6DDUoHms80LanBlM2dJUk1hUHM\n",
    "- 7zip\n",
    "- WindowsXPMode_en-us.exe\n",
    "- PRO2K3XP_32.exe\n",
    "- VirtualBox\n",
    "- VirtalBox Guest Additions\n",
    "\n",
    "**NOTE:** You can start with the Windows XP installation in the tutorial if you have downloaded the VirtualXPvhd.master\n",
    "\n",
    "#### Instructions To Extract VirtualBox disk image\n",
    "1. Extract files from WindowsXPMode_en-us.exe\n",
    "    - `7z e WindowsXPMode_en-us.exe`1\n",
    "1. You should now have a directory of files with `xpm` being one of them\n",
    "1. Extract files from xpm file\n",
    "    - `7z e xpm` \n",
    "1. You will now have a file extracted called VirtualXPVHD\n",
    "1. Follow setup instructions from here to finish\n",
    "    - http://www.fixedbyvonnie.com/2014/03/legally-install-windows-xp-free-windows-8-using-virtualbox/\n",
    "1. You may need to disable VirtualBox mouse integration if you cannot see the mouse inside the VM window\n",
    "    \n",
    "**IMPORTANT** When you use the extracted VirtualXPVHD for the virtual disk it will install the operating system on that virtual disk so it will only run the setup once. You will need to have a backup of this file to start fresh for a new install."
   ]
  }
 ],
 "metadata": {
  "kernelspec": {
   "display_name": "Python 3",
   "language": "python",
   "name": "python3"
  },
  "language_info": {
   "codemirror_mode": {
    "name": "ipython",
    "version": 3
   },
   "file_extension": ".py",
   "mimetype": "text/x-python",
   "name": "python",
   "nbconvert_exporter": "python",
   "pygments_lexer": "ipython3",
   "version": "3.6.2"
  }
 },
 "nbformat": 4,
 "nbformat_minor": 2
}
