{
 "cells": [
  {
   "cell_type": "markdown",
   "metadata": {},
   "source": [
    "# Setting up WiFi USB Adapter in VirtualBox w/ Kali\n",
    "\n",
    "### What You Will Need\n",
    "\n",
    "- One of the following: \n",
    "    - Alfa AWUSO51NH Wireless USB Adapter\n",
    "    - Alfa AWUS036NHA Wireless USB Adapter\n",
    "    - \n",
    "- Kali Linux VirtualBox Instance\n",
    "\n",
    "### Setup\n",
    "1. Go to Settings for Kali Linux Instance\n",
    "2. Go to Ports Tab\n",
    "3. Click on USB tab next to Serial Ports\n",
    "4. Click on + icon on right side of USB Driver Filters window\n",
    "5. Check list of available adapters\n",
    "6. Plug in USB adapter to machine\n",
    "7. Check list of available adapters again to see new addition\n",
    "    - WHY: Name shown is based on chipset, not on the adapter brand itself\n",
    "    - Example: ATHEROS UB91C (ALFA AWUS036NHA)\n",
    "8. Install VirtualBox Extension Pack(if not installed, ensure version matches VirtualBox installed version) - https://www.virtualbox.org/wiki/Downloads\n",
    "    - NOTE: May need to go to old builds if you have an older version of VirtualBox\n",
    "9. Disconnect USB adapter\n",
    "10. Start Kali Linux virtual machine\n",
    "11. Once started, connect USB adapter\n",
    "12. To test that device is connected:\n",
    "    - In VirtualBox context menu click Devices\n",
    "    - Click USB from the dropdown\n",
    "    - Check that wireless device is in the list and that it has a check next to it, if not click item to enable with checkbox\n",
    "13. Open terminal and run `ifconfig`\n",
    "    14. If everything is correct, you should see an interface entry for `wlan0` in the interface list\n",
    "    \n",
    "### Testing \n",
    "To properly use the wireless card to scan for networks you need to disable wired networking and enable wireless networking.\n",
    "\n",
    "1. Click on dropdown arrow in top right corner of Kali chrome bar\n",
    "2. Click on `Wired Connected` option and select `Turn Off` option. You should now see `Wired Off` in dropdown\n",
    "3. Dropdown should also show `WiFi Not Connected`\n",
    "4. Open a terminal and run `iwlist wlan0 scan`, you should see a list of available wireless networks\n",
    "    - NOTE: If you see an error message saying \"Interface doesn't support scanning: Operation not supported\", you likely haven't disabled wired networking\n",
    "5. If you see a list of wireless networks then everything is setup properly \n",
    "\n",
    "#### Resources\n",
    "https://www.youtube.com/watch?v=RiTICcLH4kU\n"
   ]
  }
 ],
 "metadata": {
  "kernelspec": {
   "display_name": "Python 3",
   "language": "python",
   "name": "python3"
  },
  "language_info": {
   "codemirror_mode": {
    "name": "ipython",
    "version": 3
   },
   "file_extension": ".py",
   "mimetype": "text/x-python",
   "name": "python",
   "nbconvert_exporter": "python",
   "pygments_lexer": "ipython3",
   "version": "3.6.2"
  }
 },
 "nbformat": 4,
 "nbformat_minor": 2
}
