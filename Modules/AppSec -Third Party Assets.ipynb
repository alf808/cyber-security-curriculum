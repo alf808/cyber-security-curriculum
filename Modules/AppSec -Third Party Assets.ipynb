{
 "cells": [
  {
   "cell_type": "markdown",
   "metadata": {},
   "source": [
    "#### Third Party Assets\n",
    "- First example, are pulling in resource that you are not hosting.\n",
    "- Second example, using a verison dependancy and pulling that source code from some repo. Allowing version increments to come into your code base.\n",
    "- Third example and worst in order to use some service you need to drop in a large script tag. This code snippet is actually creating a new script tag which then actually pulls in the real program. Very bad cause a new verison can be released without having deployed your application.\n",
    "- These are all third party, we did not write the code or prob review it before introducing to your application and not hosting the code. \n",
    "![Imgur](https://i.imgur.com/WoXoC9Z.png)\n",
    "- Use lock file to ensure that you only use specific versions for your application.\n",
    "- LTS are better cause using more mature code and get all security benenfits of future dev but none of the risks associated with risks of new LTS releases.\n",
    "- Assert expected application behavior does not change when release new packages. Example, set chrome up to record network traffic and assert that list of urls are same length after you've updated your packages.\n",
    "![Imgur](https://i.imgur.com/96mIMHZ.png)\n",
    "- CDN's are ran by people and they hold the keys to deploying new versions of packages and are trusting them that they wont introduce any malicious code.\n",
    "- add integrity into script tag that has check sum of package being used. If that file changes, browser will throw an error and refuse to load that file. Now can pul down packages from CDN and ensure that files haven't been changed.\n",
    "![Imgur](https://i.imgur.com/uwxF1o7.png)\n",
    "- This is when adding the large chunks of code to your application in order to use some service. Example, google analytics.\n",
    "- You can modify their code and add your own integrity script code in.\n",
    "- If something has changed can review the changes to the service before upgrading or introducing into application.\n",
    "- https://snyk.io/ scans vulnerabilitis in dependancies.\n",
    "![Imgur](https://i.imgur.com/1mCHrli.png)\n",
    "\n",
    "#### Challenge 1: Subresource Integrity\n",
    "![Imgur](https://i.imgur.com/Tm9GuH6.png)\n",
    "\n",
    "  ##### Solution\n",
    "  - In main-layout.ejs add integrity tags with empty string. This will cause the browser to error out and provide the checksums for us. Refresh test page and fill in with correct values given to you by browser. Refresh after adding values and will now not give errors.\n",
    "  - Using this will ensure the integrity of resources that are being downloaded by browser in your application to make sure nothing has been changed or modified.\n",
    "![Imgur](https://i.imgur.com/UfalHzl.png)\n",
    "- Add in ```crossorigin=\"anonymous\"``` in same file. This says don't send any cookies or auth credentials along with the request, just ask for it directly.\n",
    "![Imgur](https://i.imgur.com/XrMYvcd.png)\n",
    "- Add in a console.log in public/javascripts/mui.js then refresh test page and browser will reject that resource since it has been modified.\n",
    "- If you make a change to the file and want to keep it, you will have to update with new checksum value that browser provides for you.\n",
    "![Imgur](https://i.imgur.com/JroIrEC.png)"
   ]
  },
  {
   "cell_type": "code",
   "execution_count": null,
   "metadata": {},
   "outputs": [],
   "source": []
  }
 ],
 "metadata": {
  "kernelspec": {
   "display_name": "Python 3",
   "language": "python",
   "name": "python3"
  },
  "language_info": {
   "codemirror_mode": {
    "name": "ipython",
    "version": 3
   },
   "file_extension": ".py",
   "mimetype": "text/x-python",
   "name": "python",
   "nbconvert_exporter": "python",
   "pygments_lexer": "ipython3",
   "version": "3.6.2"
  }
 },
 "nbformat": 4,
 "nbformat_minor": 2
}
