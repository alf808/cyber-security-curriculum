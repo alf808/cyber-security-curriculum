{
 "cells": [
  {
   "cell_type": "markdown",
   "metadata": {},
   "source": [
    "# Intro to Windows Access Control Lists\n",
    "\n",
    "#### 1. Topics/Sub-Topics\n",
    "- What is an ACL/ACE?\n",
    "- icacls command line utility\n",
    "    - IO/CI - Object Inherit, Container Inherit\n",
    "    - `:r` flag\n",
    "    - `icacls somefile /grant User1:(d,wo)`\n",
    "    - `icacls C:\\Shared\\Creative\\Reports /grant:r \"Creative Users\":(OI)(CI)M /grant:r \"Analytics Users\":(OI)(CI)M`\n",
    "\n",
    "    - `Icacls C:\\Shared /inheritance:r /grant:r \"Domain Users\":(OI)(CI)R /grant:r \"File Admins\":(OI)(CI)F`\n",
    "\n",
    "    - `Icacls C:\\Shared\\Finance /inheritance:r /grant:r \"Finance Users\":(OI)(CI)R /grant:r \"File Admins\":(OI)(CI)F`\n",
    "\n",
    "    - `Icacls C:\\Shared\\Finance\\Budget /grant:r \"Budget Users\":(OI)(CI)M`\n",
    "    - `Icacls C:\\Shared\\Finance\\Metrics /grant:r \"Metrics Users\":(OI)(CI)M`\n",
    "\n",
    "#### 2. Pre-requisites\n",
    "- Basic Windows Users and Groups knowledge and configuration\n",
    "\n",
    "#### 3. Desired Outcomes\n",
    "\n",
    "#### 4. Resources\n",
    "- [icacls Reference](https://technet.microsoft.com/en-us/library/cc753525(v=ws.11).aspx)\n",
    "- [Windows ACL Reference](https://msdn.microsoft.com/en-us/library/windows/desktop/aa374872(v=vs.85).aspx)\n",
    "\n",
    "#### 5. Challenges/Exercises\n",
    "\n",
    "#### 6. Self Study Objectives\n",
    "\n",
    "#### 7. Estimated Time\n",
    "\n",
    "#### 8. Applicable Standards\n",
    "\n"
   ]
  },
  {
   "cell_type": "code",
   "execution_count": null,
   "metadata": {
    "collapsed": true
   },
   "outputs": [],
   "source": []
  }
 ],
 "metadata": {
  "kernelspec": {
   "display_name": "Python 3",
   "language": "python",
   "name": "python3"
  },
  "language_info": {
   "codemirror_mode": {
    "name": "ipython",
    "version": 3
   },
   "file_extension": ".py",
   "mimetype": "text/x-python",
   "name": "python",
   "nbconvert_exporter": "python",
   "pygments_lexer": "ipython3",
   "version": "3.6.2"
  }
 },
 "nbformat": 4,
 "nbformat_minor": 2
}
