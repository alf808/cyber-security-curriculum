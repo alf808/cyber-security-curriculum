{
 "cells": [
  {
   "cell_type": "markdown",
   "metadata": {},
   "source": [
    "# Learning Resources\n",
    "This is a collection of resources for all things Cybersecurity related for keeping track of. Please organize appropriately :)\n",
    "\n",
    "### Hacking & Exploitation\n",
    "\n",
    "#### General Blogs & Tutorials\n",
    "- [Null Bytes](https://null-byte.wonderhowto.com/)\n",
    "\n",
    "#### Penetration Testing\n",
    "- [OSINT 101](https://blog.appsecco.com/open-source-intelligence-gathering-101-d2861d4429e3)\n",
    "- [SecLists - Security Word List Repo](https://github.com/danielmiessler/SecLists)\n",
    "\n",
    "##### Tools\n",
    "\n",
    "#### WiFi Hacking\n",
    "- [Ultimate Guide of WiFi USB Adapters for Penetration Testing](https://www.secpoint.com/wifi-usb-adapters-performance-test.html)\n",
    "- [WiFi USB Adapter/Chipset Comparison Chart](https://drive.google.com/file/d/0Bz6cCOhVKgRxYVBpQThIZVNFTkE/view)\n",
    "\n",
    "##### Tools\n",
    "\n",
    "#### Capture The Flag (CTF)\n",
    "- [How To Get Started in CTF](https://www.endgame.com/blog/technical-blog/how-get-started-ctf)\n",
    "\n",
    "##### Tools\n",
    "[Pwntools](https://github.com/Gallopsled/pwntools)\n",
    "\n",
    "#### Malware Download Resources\n",
    "- [Malware Sample Sources List](https://zeltser.com/malware-sample-sources/)\n",
    "\n",
    "#### Virtual Machines\n",
    "- [How To Install Windows XP in VirtualBox](http://www.fixedbyvonnie.com/2014/03/legally-install-windows-xp-free-windows-8-using-virtualbox/)\n",
    "- [Free Windows Virtual Machines](https://developer.microsoft.com/en-us/microsoft-edge/tools/vms/)\n",
    "\n",
    "#### Worms\n",
    "- [Aggressive Autonomous Agents - Analysis of WannaCry, BadRabbit and NotPetya Worms](https://grugq.github.io/presentations/comae-blackhat-year-of-the-worm.pdf)\n",
    "\n",
    "##### Tools\n",
    "\n",
    "#### DIY\n",
    "- [Build your own Hak5 Packet Squirrel](https://medium.com/@tomac/a-15-openwrt-based-diy-pen-test-dropbox-26a98a5fa5e5)\n",
    "\n",
    "### Networking and Network Security\n",
    "\n",
    "##### Tools\n",
    "- [Network Security Toolkit](http://www.networksecuritytoolkit.org/nst/index.html)\n",
    "- Scapy\n",
    "- Hping\n",
    "- Nmap\n",
    "- Netcat\n",
    "- Netstat\n",
    "\n",
    "### AppSec\n",
    "\n",
    "#### OWASP\n",
    "- [OWASP Top 10 2017 Slideshow](https://www.slideshare.net/hacker0x01/owasp-top-10-2017-84029876)\n",
    "- [OWASP Top 10 2017 Download](https://www.owasp.org/images/7/72/OWASP_Top_10-2017_%28en%29.pdf.pdf)\n",
    "- [OWASP Testing Guide](https://www.owasp.org/images/1/19/OTGv4.pdf)\n",
    "\n",
    "#### Browser Vulnerabilities\n",
    "[Safari Client Side Attack Vulnerabilities](https://medium.com/@wallarm/the-good-the-bad-and-the-ugly-of-safari-in-client-side-attacks-56d0cb61275a)\n",
    "\n",
    "##### Tools\n",
    "\n",
    "### Digital Forensics\n",
    "\n",
    "#### Malware Analysis\n",
    "\n",
    "##### Tools\n",
    "[Cuckoo Sandbox - Automated Malware Analysis](https://www.cuckoosandbox.org/)\n"
   ]
  },
  {
   "cell_type": "code",
   "execution_count": null,
   "metadata": {
    "collapsed": true
   },
   "outputs": [],
   "source": []
  }
 ],
 "metadata": {
  "kernelspec": {
   "display_name": "Python 3",
   "language": "python",
   "name": "python3"
  },
  "language_info": {
   "codemirror_mode": {
    "name": "ipython",
    "version": 3
   },
   "file_extension": ".py",
   "mimetype": "text/x-python",
   "name": "python",
   "nbconvert_exporter": "python",
   "pygments_lexer": "ipython3",
   "version": "3.6.2"
  }
 },
 "nbformat": 4,
 "nbformat_minor": 2
}
