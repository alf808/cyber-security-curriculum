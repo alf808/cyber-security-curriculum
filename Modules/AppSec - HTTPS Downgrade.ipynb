{
 "cells": [
  {
   "cell_type": "markdown",
   "metadata": {},
   "source": [
    "#### HTTPS Downgrading\n",
    "- Great that everyone is moving to https but what do you do with all incoming http connections? Typical approach is a redirect.\n",
    "![Imgur](https://i.imgur.com/H4UKrob.png)\n",
    "![Imgur](https://i.imgur.com/9rNa1fa.png)\n",
    "- A library is made for this called SSLStrip.\n",
    "- Attacker makes http connection with user, and secure connection with server.\n",
    "- From here, can MITM both ways cause you hold the session key since we initiated the TLS handshake.\n",
    "![Imgur](https://i.imgur.com/ejnbKKM.png)\n",
    "\n",
    "#### Defend against HTTPS downgrade\n",
    "- CSP will upgrade links in your app to https\n",
    "![Imgur](https://i.imgur.com/xoqJ3lf.png)\n",
    "\n",
    "\n",
    "#### Bad Certificate\n",
    "- SNI announces itself to the server during TLS handshake. Example, client asks hacker are you www.google.com, and quicky forges a bad certificate.\n",
    "- Most bad certs will look very legit with name, address....![screenshot.png](/:storage/0.zcm9n6bpnt.png) but biggest difference is that is not signed by a trusted root.\n",
    "![Imgur](https://i.imgur.com/rf4jeJV.png)\n",
    "- Browsers try to catch bad certs.\n",
    "![Imgur](https://i.imgur.com/13WD057.png)\n",
    "- Common stats  \n",
    "![Imgur](https://i.imgur.com/HnJY6fF.png)\n",
    "\n",
    "#### Defending against bad certificates\n",
    "- Strict transport security will not allow you to make plain http connection to that particular domain and all subdomains. \n",
    "![Imgur](https://i.imgur.com/EIufPjn.png)\n",
    "- Add your domain to this list, and next browser update your domain will be included in their source code. It will then have instructions to never talk to your domain over plain http connection.\n",
    "![Imgur](https://i.imgur.com/zenkaox.png)\n",
    "\n",
    "##### Challenge: Defend against HTTPS Downgrade\n",
    "- Will add in server/index.js\n",
    "![Imgur](https://i.imgur.com/IunFNTf.png)\n",
    "\n",
    "#### Challenge Solution:\n",
    "- Add new http header in server/index.js\n",
    "- Add keys to gitignore file.\n",
    "- Bring back http and restart server. Will try to start application on http and see what the response from browser is.\n",
    "![Imgur](https://i.imgur.com/U46SGlk.png)\n",
    "- Inspect get request in network tab and should now see new strict transport security.\n",
    "![Imgur](https://i.imgur.com/YxZkcYY.png)\n",
    "\n",
    "#### Certificate Authority Compromise\n",
    "![Imgur](https://i.imgur.com/o4KfHBS.png)\n",
    "\n",
    "![Imgur](https://i.imgur.com/Slt71Gg.png)\n",
    "\n",
    "![Imgur](https://i.imgur.com/ENhGVTS.png)\n",
    "\n",
    "![Imgur](https://i.imgur.com/egYWoSK.png)\n",
    "\n"
   ]
  }
 ],
 "metadata": {
  "kernelspec": {
   "display_name": "Python 3",
   "language": "python",
   "name": "python3"
  },
  "language_info": {
   "codemirror_mode": {
    "name": "ipython",
    "version": 3
   },
   "file_extension": ".py",
   "mimetype": "text/x-python",
   "name": "python",
   "nbconvert_exporter": "python",
   "pygments_lexer": "ipython3",
   "version": "3.6.2"
  }
 },
 "nbformat": 4,
 "nbformat_minor": 2
}
