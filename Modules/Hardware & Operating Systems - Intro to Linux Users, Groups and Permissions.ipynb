{
 "cells": [
  {
   "cell_type": "markdown",
   "metadata": {},
   "source": [
    "# Intro to Linux/Mac Users, Groups and Permissions\n",
    "\n",
    "#### 1. Topics/Sub-Topics\n",
    "- Users and Groups in Linux/Mac\n",
    "    - Similarities to Windows\n",
    "        - Concept that it is easier to manage groups than users\n",
    "        - Similar root user as Administrator\n",
    "    - Differences to Windows\n",
    "        - Only one root user\n",
    "        - sudo command and group (the Linux UAC)\n",
    "        - Command line based (mostly)\n",
    "        - Structure of File System\n",
    "        - Three groups of permissions on each file/directory\n",
    "            - Owner\n",
    "            - Group\n",
    "            - Everyone\n",
    "        - Three categories of permissions\n",
    "            - r - Read - 4\n",
    "            - w - Write - 2\n",
    "            - x - Execute - 1\n",
    "        - Setting permissions is simple binary math\n",
    "            - Demonstrate rw = 4+2 = 600, etc...\n",
    "    - Commands\n",
    "        - ls -l\n",
    "        - useradd\n",
    "        - usermod\n",
    "        - userdel\n",
    "        - chmod\n",
    "        - chown\n",
    "        - groups\n",
    "        - passwd\n",
    "\n",
    "#### 2. Pre-requisites\n",
    "- Basic Linux knowledge\n",
    "\n",
    "#### 3. Desired Outcomes\n",
    "\n",
    "#### 4. Resources\n",
    "- [A+ Ninth Edition Study Guide](https://drive.google.com/file/d/1sBO4JPU8b43FzC03mTctugJc-ICHLZlP/view?usp=sharing)\n",
    "\n",
    "#### 5. Challenges/Exercises\n",
    "- Exercise: Create a New User Creation manual including security policy for passwords\n",
    "- Exercise: TBD - Create a number of users, groups, files and folders with different levels of access, etc...\n",
    "\n",
    "#### 6. Self Study Objectives\n",
    "- Read CompTIA A+ - Chapter 15 \n",
    "\n",
    "#### 7. Estimated Time\n",
    "\n",
    "#### 8. Applicable Standards\n",
    "\n"
   ]
  }
 ],
 "metadata": {
  "kernelspec": {
   "display_name": "Python 3",
   "language": "python",
   "name": "python3"
  },
  "language_info": {
   "codemirror_mode": {
    "name": "ipython",
    "version": 3
   },
   "file_extension": ".py",
   "mimetype": "text/x-python",
   "name": "python",
   "nbconvert_exporter": "python",
   "pygments_lexer": "ipython3",
   "version": "3.6.2"
  }
 },
 "nbformat": 4,
 "nbformat_minor": 2
}
