{
 "cells": [
  {
   "cell_type": "markdown",
   "metadata": {
    "collapsed": true
   },
   "source": [
    "# Hardware & Operating Systems - Anatomy of A PC\n",
    "\n",
    "#### 1. Topics/Sub-Topics\n",
    "\n",
    "    - Topic\n",
    "        - Sub-topic\n",
    "\n",
    "#### 2. Pre-requisites\n",
    "- A+ Chapter ??\n",
    "\n",
    "#### 3. Desired Outcomes\n",
    "\n",
    "\n",
    "#### 4. Resources\n",
    "- [A+ Ninth Edition Study Guide](https://drive.google.com/file/d/1sBO4JPU8b43FzC03mTctugJc-ICHLZlP/view?usp=sharing)\n",
    "- [A+ 220-901 Exam Study Objectives](https://drive.google.com/open?id=1HFbvLvM9XoxiZZ73R3ExIgFlUzn_dKvx)\n",
    "\n",
    "#### 5. Challenges/Exercises\n",
    "    - Lab/Lecture: [Flash a PC bios](https://null-byte.wonderhowto.com/news/hack-your-computers-bios-unlock-hidden-settings-overclocking-more-0132292/)\n",
    "    - Assignment: Write a blog about how to dual boot a PC step by step\n",
    "\n",
    "#### 6. Self Study Objectives\n",
    "    ]\n",
    "\n",
    "#### 7. Estimated Time\n",
    "    \n",
    "\n",
    "#### 8. Applicable Standards\n",
    "If there are any publicly available standards that can be mapped to this module they should be identified here.\n",
    "    - NIST ???\n",
    "\n"
   ]
  }
 ],
 "metadata": {
  "kernelspec": {
   "display_name": "Python 3",
   "language": "python",
   "name": "python3"
  },
  "language_info": {
   "codemirror_mode": {
    "name": "ipython",
    "version": 3
   },
   "file_extension": ".py",
   "mimetype": "text/x-python",
   "name": "python",
   "nbconvert_exporter": "python",
   "pygments_lexer": "ipython3",
   "version": "3.6.2"
  }
 },
 "nbformat": 4,
 "nbformat_minor": 2
}
