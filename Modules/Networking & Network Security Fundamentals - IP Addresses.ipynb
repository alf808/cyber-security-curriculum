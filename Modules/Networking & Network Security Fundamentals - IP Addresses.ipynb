{
 "cells": [
  {
   "attachments": {},
   "cell_type": "markdown",
   "metadata": {},
   "source": [
    "# IP Addresses\n",
    "\n",
    "\n",
    "How the Internet Communicates with devices\n",
    "Terminology \n",
    "- Bit- one digit either a 1 or 0\n",
    "- Byte- 8 bits\n",
    "- Octet- 8 bit binary number (used interchangeably with byte)\n",
    "- Network address- address router uses to send packets to \n",
    "- Broadcast address- Used by all applications and hosts to send information to all hosts on a network \n",
    "\n",
    "What is IPv4\n",
    "- 4th version of the internet protocol but the first deployed\n",
    "- Connectionless protocol for use on packet switched networks\n",
    "- Best effort delivery- does not guarantee delivery  but uses protocols to (TCP)\n",
    "- 32 bits with either 0 or 1 = 232  Or 4,292,967,296 addresses\n",
    "\n",
    "- Consists of 32 bits of information, divided into 4 sections which can be represented in 3 ways:\n",
    "1. Dotted decimal 192.168.10 .1\n",
    "2. Binary 10000000.10000000.10000000.10000000\n",
    "3. Hexadecimal AC.10.1E.38\n",
    "\n",
    "Network Addresses\n",
    "- Every machine on the network shares the network address as part of its individual IP address\n",
    "- Host address is uniquely assigned and identifies a specific device\n",
    "\n",
    "- Classes\n",
    "    - Class A - For the small number of networks possessing a large number of hosts\n",
    "        - Network (8 bits) Host.Host.Host\n",
    "        - First bit is reserved and the 7 other can be manipulated \n",
    "        - creators of the internet said that the first bit must always be off or a 0 \n",
    "        - Maximum number of Class A networks that can be created is 128 (2^7)\n",
    "        - 00000000 - 01111111 = 127\n",
    "        - 0 reserved for router and 127 reserved for diagnostics (1-26)\n",
    "        - 2^24 unique combinations = 16,777,216\n",
    "        - 10.0.0.0 = all host bits turned off (network address)\n",
    "        - 10.255.255.255 all host bits turned on is broadcast address\n",
    "    - Class B - In between A and B\n",
    "        - Network (8 bits). Network (8 Bits).Host.Host\n",
    "    - Class C - Numerous networks with few hosts\n",
    "        - Network (8 bits). Network (8 bits). Network (8 bits). Host\n",
    "    - Router Knows that a Class A network always starts with a 0 so it can speed a packet on its way after reading only first bit\n",
    "    \n",
    "Binary Numbers \n",
    "Base 2 number system\n",
    "0= off /no and 1=on/yes\n",
    "IP addresses use binary number but because they are hard to remember for a human we translate it into decimal number. \n",
    "Decimal numbering is 0-9 or 10 digits\n",
    "\n",
    "\n",
    "pg. 105\n",
    "\n"
   ]
  }
 ],
 "metadata": {
  "kernelspec": {
   "display_name": "Python 3",
   "language": "python",
   "name": "python3"
  },
  "language_info": {
   "codemirror_mode": {
    "name": "ipython",
    "version": 3
   },
   "file_extension": ".py",
   "mimetype": "text/x-python",
   "name": "python",
   "nbconvert_exporter": "python",
   "pygments_lexer": "ipython3",
   "version": "3.6.3"
  }
 },
 "nbformat": 4,
 "nbformat_minor": 2
}
