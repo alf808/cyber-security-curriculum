{
 "cells": [
  {
   "cell_type": "markdown",
   "metadata": {},
   "source": [
    "# Browser Redirection & Open Redirect Vulnerabilities\n",
    "\n",
    "### What is a browser redirect?\n",
    "The HTTP protocol has two status codes (301, 302) to account for the fact that the internet was built on the premise that files would exist at a certain location and may move to another location at some point. Rather than losing track of these files, the protocol supports the ability to have the user be **redirected** to the new or alternate location.\n",
    "\n",
    "**301 - Permanent Redirect**\n",
    "\n",
    "**302 - Temporary Redirect**\n",
    "\n",
    "### Browser Redirection\n",
    "If the browser receives a `301` or `302` HTTP Status code in return from any request it will immediately request and redirect the user to that resource with full trust(no confirmation from user). This happens so quickly it is usually unnoticed by the user,\n",
    "\n",
    "```\n",
    "HTTP/1.1 301 Redirect\n",
    "Location: http://evildarklord.com\n",
    "```\n",
    "\n",
    "### Redirection in JavaScript\n",
    "The following code is easily inserted into any site that allows input unfiltered or allows users to customize their own whitelabel accounts and add custom HTML.\n",
    "\n",
    "```javascript\n",
    "<script>document.location.href = \"http://evildarklord.com\";</script>\n",
    "```\n",
    "\n",
    "### What is an open redirect vulnerability?\n",
    "Browser redirects are a common design pattern in web applications to redirect users to different parts of the site for white labeling, or to take a user to where they were initially trying to go, but being required to login first.\n",
    "\n",
    "###### Redirect URL Examples\n",
    "```\n",
    "http://mybank.com/login?redirect_url=https://mybank.com/account_summary\n",
    "```\n",
    "```\n",
    "http://mybank.com/login?d=https://mybank.com/account_summary\n",
    "```\n",
    "\n",
    "\n"
   ]
  }
 ],
 "metadata": {
  "kernelspec": {
   "display_name": "Python 3",
   "language": "python",
   "name": "python3"
  },
  "language_info": {
   "codemirror_mode": {
    "name": "ipython",
    "version": 3
   },
   "file_extension": ".py",
   "mimetype": "text/x-python",
   "name": "python",
   "nbconvert_exporter": "python",
   "pygments_lexer": "ipython3",
   "version": "3.6.2"
  }
 },
 "nbformat": 4,
 "nbformat_minor": 2
}
