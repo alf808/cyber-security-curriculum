{
 "cells": [
  {
   "cell_type": "markdown",
   "metadata": {},
   "source": [
    "# Week 13 - (2/12/18)\n",
    "\n",
    "Monday - (2/12/18)\n",
    "- Security Plus questions Topic 2 Part 1 (\n",
    "- Nmap Lecture\n",
    "Tuesday - (2/13/18)\n",
    "- Continued on with Nmap \n",
    "- Nmap Scripting Engine (NSE) lecture\n",
    "- Demonstration of some Scripts \n",
    "Saturday - (2/17/18)\n",
    "- Nmap lab?\n"
   ]
  }
 ],
 "metadata": {
  "kernelspec": {
   "display_name": "Python 3",
   "language": "python",
   "name": "python3"
  },
  "language_info": {
   "codemirror_mode": {
    "name": "ipython",
    "version": 3
   },
   "file_extension": ".py",
   "mimetype": "text/x-python",
   "name": "python",
   "nbconvert_exporter": "python",
   "pygments_lexer": "ipython3",
   "version": "3.6.3"
  }
 },
 "nbformat": 4,
 "nbformat_minor": 2
}
