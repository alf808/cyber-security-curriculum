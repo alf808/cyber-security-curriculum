{
 "cells": [
  {
   "cell_type": "markdown",
   "metadata": {},
   "source": [
    "# Week 15 - Snort Part 2 (2/26/18 - 3/3/18)\n",
    "\n",
    "Monday 2/26/18\n",
    "- Security + practice test topic 2 part 3\n",
    "- Finished around 7:45 pm\n",
    "\n",
    "- Worked on part 3 of snort lab\n",
    "- Had some issues with firewall rules\n",
    "- Jason and Bart went down a serious rabbit hole (Not sure what it is)\n",
    "\n",
    "Tuesday 2/27/18\n",
    "- Contiued with snort lab\n",
    "- Got stuck on the firewall rule to log ftp connections and never got it to work on 3 out of 6 machines\n",
    "- Not sure how far everyone got to before giving up but might be worth redioing this lab ourselves and cutting out some parts \n",
    "- Some of the sections after seemed cool and relevant but people didnt get to them becuase they got frustrated\n",
    "- Might have spent more time than neccessary on this for future reference\n",
    "\n",
    "Saturday 3/3/18\n",
    "- Worked on Lazysysadmin vulnhub image\n",
    "- Spent most of day working on it individually\n",
    "- Import notes here Jay!\n",
    "\n"
   ]
  }
 ],
 "metadata": {
  "kernelspec": {
   "display_name": "Python 3",
   "language": "python",
   "name": "python3"
  },
  "language_info": {
   "codemirror_mode": {
    "name": "ipython",
    "version": 3
   },
   "file_extension": ".py",
   "mimetype": "text/x-python",
   "name": "python",
   "nbconvert_exporter": "python",
   "pygments_lexer": "ipython3",
   "version": "3.6.3"
  }
 },
 "nbformat": 4,
 "nbformat_minor": 2
}
