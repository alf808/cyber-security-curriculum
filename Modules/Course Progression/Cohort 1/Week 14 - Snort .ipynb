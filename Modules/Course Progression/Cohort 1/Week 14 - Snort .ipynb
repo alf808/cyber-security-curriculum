{
 "cells": [
  {
   "cell_type": "markdown",
   "metadata": {},
   "source": [
    "# Week 14 - Snort (2/19/18 - 2/24/18)\n",
    "\n",
    "Monday 2/19/18\n",
    "- Security + Practice test: Topic 2 part 2\n",
    "- Took about 1.5 hours to do\n",
    "- Link test\n",
    "\n",
    "- Introduced Snort\n",
    "- https://gist.github.com/jaywon/f4db15e7e0266102576d93efc6f82017\n",
    "\n",
    "Tuesday 2/20/18\n",
    "- Worked on Snort lab\n",
    "- Make sure you have your IP adderss right when configuring snort rule for ftp\n",
    "- Need to isntall ftp/sftp on kali\n",
    "- Then make sure to use the right port (21 for ftp and 22 for sftp)\n",
    "- Exploit in lab uses server 2012, you needed to download the exploit\n",
    "- Also might need to turn od windows defencer for reverse shell to work\n",
    "- Make sure to configure same port (8080, 8081, etc.)\n",
    "\n",
    "Saturday 2/24/18\n",
    "- Spent the whole day wokring on Snort Lab"
   ]
  }
 ],
 "metadata": {
  "kernelspec": {
   "display_name": "Python 3",
   "language": "python",
   "name": "python3"
  },
  "language_info": {
   "codemirror_mode": {
    "name": "ipython",
    "version": 3
   },
   "file_extension": ".py",
   "mimetype": "text/x-python",
   "name": "python",
   "nbconvert_exporter": "python",
   "pygments_lexer": "ipython3",
   "version": "3.6.3"
  }
 },
 "nbformat": 4,
 "nbformat_minor": 2
}
