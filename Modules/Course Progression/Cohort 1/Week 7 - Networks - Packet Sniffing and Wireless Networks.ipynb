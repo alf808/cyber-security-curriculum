{
 "cells": [
  {
   "cell_type": "markdown",
   "metadata": {},
   "source": [
    "# Week 7 - Packet Sniffing and Wireless Networks \n",
    "\n",
    "### Weekly Objectives\n",
    "\n",
    "- Comprehensive look at wireless technology\n",
    "\n",
    "##### MAIN POINTS\n",
    "\n",
    "\n",
    "### Day 1 - New Years - N/A\n",
    "    \n",
    "\n",
    "### Day 2 - Tuesday - 4 hours\n",
    "- Distribute Sec+ Materials\n",
    "    - http://bit.ly/sec-plus-videos-student-copy\n",
    "    - http://bit.ly/sec-plus-student-copy\n",
    "- Review Backlogs & Playbooks\n",
    "- Lecture - Wireshark & Common protocols\n",
    "    - TCP packet structure\n",
    "    - IP packet structure\n",
    "    - FTP\n",
    "    - HTTP/HTTPS\n",
    "    - SSH/SFTP\n",
    "    - ICMP\n",
    "\n",
    "\n",
    "### Day 3 - Saturday - 9 hours\n",
    "- Python Challenge:\n",
    "    - Create an ICMP packet generator OR\n",
    "    - Create a basic firewall program that will receive packets, analyze them and block ICMP requests\n",
    "        \n",
    "### Resources\n",
    "\n",
    "- [Sec+ Study Guide & Labs](https://drive.google.com/open?id=1Tcy7CKP7v3iZDiw_d2UgiR8ai7AHVfrd)'\n",
    "- [Sec+ Videos](https://drive.google.com/open?id=1ljTjh4rE8qB16PexaHhYuDICMn3oQrsT)\n",
    "\n",
    "\n",
    "### Self Study Objectives\n",
    "- Sec+ Study Guide - Chapter 1 - Networking Basics & Terminology\n",
    "- Sec+ Video Exer1-3.mp4 or alternatives\n",
    "- Sec+ Lab Exercises 1-1, 1-2, 1-3, 1-4\n",
    "- Accountability Log\n",
    "\n",
    "\n",
    "### Challenges\n",
    "- Create an ICMP packet generator\n",
    "- Create a basic firewall program that will receive packets, analyze them and block ICMP requests"
   ]
  }
 ],
 "metadata": {
  "kernelspec": {
   "display_name": "Python 3",
   "language": "python",
   "name": "python3"
  },
  "language_info": {
   "codemirror_mode": {
    "name": "ipython",
    "version": 3
   },
   "file_extension": ".py",
   "mimetype": "text/x-python",
   "name": "python",
   "nbconvert_exporter": "python",
   "pygments_lexer": "ipython3",
   "version": "3.6.3"
  }
 },
 "nbformat": 4,
 "nbformat_minor": 2
}
