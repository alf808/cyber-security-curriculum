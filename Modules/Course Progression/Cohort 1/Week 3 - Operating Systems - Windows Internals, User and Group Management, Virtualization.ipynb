{
 "cells": [
  {
   "cell_type": "markdown",
   "metadata": {},
   "source": [
    "# Week 3 - Operating Systems\n",
    "\n",
    "### Weekly Objectives\n",
    "\n",
    "##### MAIN POINTS\n",
    "\n",
    "\n",
    "### Day 1 - Monday - 4 hours\n",
    "    - Lecture: \n",
    "    - Lab:\n",
    "\n",
    "### Day 2 - Tuesday - 4 hours\n",
    "    - Lecture: \n",
    "    - Lab:\n",
    "\n",
    "### Day 3 - Saturday - 9 hours\n",
    "    - Lecture: \n",
    "    - Lab:\n",
    "\n",
    "### Resources\n",
    "- [A+ Ninth Edition Study Guide](https://drive.google.com/file/d/1sBO4JPU8b43FzC03mTctugJc-ICHLZlP/view?usp=sharing)\n",
    "- [A+ 220-902 Exam Study Objectives](https://drive.google.com/open?id=1iQiPuF129U91mHgp1A2SPvf-0FuR43rT)\n",
    "- [Professor Messer A+ 220-902 Series](https://www.youtube.com/playlist?list=PLG49S3nxzAnmLq5TLtC0udUaXSaRiPc4v)\n",
    "\n",
    "\n",
    "### Self Study Objectives\n",
    "- A+ Study Guide - Chapters TBD\n",
    "- Accountability Log"
   ]
  },
  {
   "cell_type": "code",
   "execution_count": null,
   "metadata": {
    "collapsed": true
   },
   "outputs": [],
   "source": []
  }
 ],
 "metadata": {
  "kernelspec": {
   "display_name": "Python 3",
   "language": "python",
   "name": "python3"
  },
  "language_info": {
   "codemirror_mode": {
    "name": "ipython",
    "version": 3
   },
   "file_extension": ".py",
   "mimetype": "text/x-python",
   "name": "python",
   "nbconvert_exporter": "python",
   "pygments_lexer": "ipython3",
   "version": "3.6.2"
  }
 },
 "nbformat": 4,
 "nbformat_minor": 2
}
