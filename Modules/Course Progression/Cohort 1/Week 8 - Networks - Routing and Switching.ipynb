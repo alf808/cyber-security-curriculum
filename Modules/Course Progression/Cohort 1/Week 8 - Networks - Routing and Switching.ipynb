{
 "cells": [
  {
   "cell_type": "markdown",
   "metadata": {
    "collapsed": true
   },
   "source": [
    "# Week 8 - Routing and Switching \n",
    "#### Network + Chapters 9, 10 & 11\n",
    "\n",
    "### Weekly Objectives\n",
    "\n",
    "- Understand how routers work\n",
    "- Understand how switches work\n",
    "- What are the protocols uses in routing and switching\n",
    "- How to use packet tracer to configure routing and switching protocols\n",
    "- Understand the security vulnerabilities and implications in routers and switches\n",
    "\n",
    "##### MAIN POINTS\n",
    "\n",
    "\n",
    "### Day 1 - Monday - 1/8/18 - 4 hours\n",
    "- Go over deliverables that were worked on over the vacation\n",
    "    - Creating a virtual network (bart)\n",
    "    - Working on Security + questions, reading sections, watching videos etc.\n",
    "    - Getting deep into Wireshark\n",
    "- Lecture - Routing Protocols (2 hours)\n",
    "- Live Code - Live coded a packet tracer exercise going over basic configuration\n",
    "    - Didnt get to the routing portion, so we will continue it on Tuesday\n",
    "\n",
    "### Day 2 - Tuesday - 1/9/18 - 4 hours\n",
    "- Take first 20 minutes of class to practice 20 Security + questions\n",
    "    - Pulled from the networking module (Chapter 1 in brain dumps)\n",
    "    - Reviewed answers (20 minutes)\n",
    "    - Ended up taking about 2 hours total, reviewing the answers to the questions\n",
    "    \n",
    "- Continue Packet Tracer lab configuring static and dynamic routing\n",
    "- Lecture - Switching (We did not get to this)\n",
    "- Live Code - Live code a packet tracer example of configuring Spanning Tree, VLAN'\n",
    "\n",
    "\n",
    "### Day 3 - Saturday - 9 hours\n",
    "- Wireless Challenge\n",
    "        \n",
    "### Resources\n",
    "\n",
    "- [Sec+ Study Guide & Labs](https://drive.google.com/open?id=1Tcy7CKP7v3iZDiw_d2UgiR8ai7AHVfrd)'\n",
    "- [Sec+ Videos](https://drive.google.com/open?id=1ljTjh4rE8qB16PexaHhYuDICMn3oQrsT)\n",
    "\n",
    "\n",
    "### Self Study Objectives\n",
    "- Sec+ Study Guide - Chapter 1 - Networking Basics & Terminology\n",
    "- Sec+ Video Exer1-3.mp4 or alternatives\n",
    "- Sec+ Lab Exercises 1-1, 1-2, 1-3, 1-4\n",
    "\n",
    "\n",
    "### Challenges\n",
    "- The routing lab of configuring static routing was challenging to understand\n"
   ]
  }
 ],
 "metadata": {
  "kernelspec": {
   "display_name": "Python 3",
   "language": "python",
   "name": "python3"
  },
  "language_info": {
   "codemirror_mode": {
    "name": "ipython",
    "version": 3
   },
   "file_extension": ".py",
   "mimetype": "text/x-python",
   "name": "python",
   "nbconvert_exporter": "python",
   "pygments_lexer": "ipython3",
   "version": "3.6.3"
  }
 },
 "nbformat": 4,
 "nbformat_minor": 2
}
