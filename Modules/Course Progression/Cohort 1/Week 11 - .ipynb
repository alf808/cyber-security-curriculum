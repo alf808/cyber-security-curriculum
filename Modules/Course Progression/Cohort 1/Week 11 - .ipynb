{
 "cells": [
  {
   "cell_type": "markdown",
   "metadata": {},
   "source": [
    "# Week 11- (1/29/18)\n",
    "\n",
    "Monday - (1/29/18)\n",
    "- \n",
    "\n",
    "Tuesday - (1/30/18)\n",
    "- \n",
    "\n",
    "Staurday - (2/3/18)\n",
    "- \n"
   ]
  }
 ],
 "metadata": {
  "kernelspec": {
   "display_name": "Python 3",
   "language": "python",
   "name": "python3"
  },
  "language_info": {
   "codemirror_mode": {
    "name": "ipython",
    "version": 3
   },
   "file_extension": ".py",
   "mimetype": "text/x-python",
   "name": "python",
   "nbconvert_exporter": "python",
   "pygments_lexer": "ipython3",
   "version": "3.6.3"
  }
 },
 "nbformat": 4,
 "nbformat_minor": 2
}
