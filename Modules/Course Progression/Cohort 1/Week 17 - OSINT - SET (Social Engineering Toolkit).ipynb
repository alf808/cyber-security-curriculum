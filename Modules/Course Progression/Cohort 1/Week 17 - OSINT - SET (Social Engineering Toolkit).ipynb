{
 "cells": [
  {
   "cell_type": "markdown",
   "metadata": {},
   "source": [
    "# Week 17 OSINT Part 2 - Social Engineering (3/12/18 - 3/17/18)\n",
    "\n",
    "Monday 3/12/18\n",
    "- Security + Practice test Topic 3 part 1\n",
    "- took about 1.5 hours\n",
    "\n",
    "- Students presented findings on businesses that they chose\n",
    "- Took about 1 hour total\n",
    "- About 15 minutes each\n",
    "- Common tools they used were maltego, nessus, DNS tools, KALI tools, etc.\n",
    "\n",
    "- Then talked about dradis\n",
    "- Only had about 45 minutes going over and could have spent longer\n",
    "\n",
    "Tuesday 3/13/18\n",
    "- Social Engineering Toolkit in Kali\n",
    "- Live demo\n",
    "- Insert jasons Notes here!\n",
    "- Then the students worked on crafting an exploit specific to the company they had done recon on using the SET \n",
    "\n",
    "Saturday 3/17/18\n",
    "- Started new section of application and web development with Tyler\n",
    "- This was mostly because of Scheduling and could be changed around in the future\n",
    "- Insert Notes here Tyler!\n",
    "\n"
   ]
  }
 ],
 "metadata": {
  "kernelspec": {
   "display_name": "Python 3",
   "language": "python",
   "name": "python3"
  },
  "language_info": {
   "codemirror_mode": {
    "name": "ipython",
    "version": 3
   },
   "file_extension": ".py",
   "mimetype": "text/x-python",
   "name": "python",
   "nbconvert_exporter": "python",
   "pygments_lexer": "ipython3",
   "version": "3.6.3"
  }
 },
 "nbformat": 4,
 "nbformat_minor": 2
}
