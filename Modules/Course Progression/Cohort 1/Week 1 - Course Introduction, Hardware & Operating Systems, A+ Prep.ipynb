{
 "cells": [
  {
   "cell_type": "markdown",
   "metadata": {},
   "source": [
    "### Day 1 - Monday - 4 hours\n",
    "- Introduction to course (30-45 minutes)\n",
    "    - Handout of [Cyber Security Professional Course Guidelines & Expectations](/notebooks/Modules/Course%20Documents/Cyber%20Security%20Professional%20Course%20Guidelines%20%26%20Expectations.ipynb)\n",
    "- Ice Breaker - Introductions and Personal Goals (15-20 minutes)\n",
    "- Communication Principles (5 minutes)\n",
    "- Installation & Account Creation (30-60 minutes)\n",
    "    - Python3\n",
    "        - pip\n",
    "    - Jupyter Notebook (will need Python first)\n",
    "    - Git\n",
    "    - Github\n",
    "    - Twitter\n",
    "    - Keybase (will need Github & Twitter first)\n",
    "    - VirtualBox\n",
    "    - Download Ubuntu 16 & Windows 10\n",
    "- Jupyter Notebook & Markdown Tutorial (30-40 minutes)\n",
    "- Explain Goal of First Three Weeks - A+ Coverage and Certifications in General (5-10 minutes)\n",
    "    - Distribute A+ Study Guide\n",
    "- Lecture on Basic Components of a Computer (30-45 minutes)\n",
    "    - Module: [Hardware & Operating Systems - Anatomy of a PC](/notebooks/Modules/Hardware%20%26%20Operating%20Systems%20-%20Anatomy%20of%20a%20PC.ipynb)\n",
    "\n",
    "\n",
    "### Day 2 - Tuesday - 4 hours\n",
    "\n",
    "\n",
    "### Day 3 - Saturday - 9 hours\n",
    "\n",
    "\n",
    "### Resources\n",
    "- [A+ Ninth Edition Study Guide](https://drive.google.com/file/d/1sBO4JPU8b43FzC03mTctugJc-ICHLZlP/view?usp=sharing)\n",
    "- [Instructure Canvas Course](https://canvas.instructure.com/courses/1013003)\n",
    "- [Basic Components of A Computer](http://www.garfieldcs.com/wordpress/wordpress/wp-content/uploads/2011/09/Computer-Hardware-Basics.pdf)\n",
    "- [What's Inside My Computer](https://computer.howstuffworks.com/inside-computer.htm)\n",
    "\n",
    "\n",
    "### Self Study Objectives\n",
    "- Read Chapters 1-2 of A+\n",
    "- "
   ]
  },
  {
   "cell_type": "code",
   "execution_count": null,
   "metadata": {
    "collapsed": true
   },
   "outputs": [],
   "source": []
  }
 ],
 "metadata": {
  "kernelspec": {
   "display_name": "Python 3",
   "language": "python",
   "name": "python3"
  },
  "language_info": {
   "codemirror_mode": {
    "name": "ipython",
    "version": 3
   },
   "file_extension": ".py",
   "mimetype": "text/x-python",
   "name": "python",
   "nbconvert_exporter": "python",
   "pygments_lexer": "ipython3",
   "version": "3.6.2"
  }
 },
 "nbformat": 4,
 "nbformat_minor": 2
}
