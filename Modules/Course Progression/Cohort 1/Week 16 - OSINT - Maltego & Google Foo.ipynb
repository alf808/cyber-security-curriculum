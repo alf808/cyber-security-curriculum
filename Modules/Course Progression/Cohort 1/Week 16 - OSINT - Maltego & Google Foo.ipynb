{
 "cells": [
  {
   "cell_type": "markdown",
   "metadata": {},
   "source": [
    "# Week 16  OSINT - Maltego & Google Foo (3/5/18 - 3/10 /18)\n",
    "\n",
    "Monday 3/5/18\n",
    "- Security + Practice Test topic 2 part 4\n",
    "- Tooka baout an hour\n",
    "\n",
    "- Intro to Open Source Intelligence (OSINT)\n",
    "- Assigned everyone a OSINT project to pick a company and do a recon of them\n",
    "- Create a report and then present it\n",
    "- Seemd like the best ones used Github so maybe in the future we should require them to use Github and organize it well\n",
    "- Should be all passive recon!\n",
    "\n",
    "Tuesday 3/6/18\n",
    "- Introduce Google Foo and hacking with google\n",
    "- Talked about Johnny Long (could show some of his videos here)\n",
    "- Google hacking database\n",
    "- Continued with OSINT Project and added the google hacking to it\n",
    "\n",
    "Saturday 3/10/18\n",
    "- Not sure? \n",
    "- I think they might have continued working on OSINT project?\n"
   ]
  }
 ],
 "metadata": {
  "kernelspec": {
   "display_name": "Python 3",
   "language": "python",
   "name": "python3"
  },
  "language_info": {
   "codemirror_mode": {
    "name": "ipython",
    "version": 3
   },
   "file_extension": ".py",
   "mimetype": "text/x-python",
   "name": "python",
   "nbconvert_exporter": "python",
   "pygments_lexer": "ipython3",
   "version": "3.6.3"
  }
 },
 "nbformat": 4,
 "nbformat_minor": 2
}
