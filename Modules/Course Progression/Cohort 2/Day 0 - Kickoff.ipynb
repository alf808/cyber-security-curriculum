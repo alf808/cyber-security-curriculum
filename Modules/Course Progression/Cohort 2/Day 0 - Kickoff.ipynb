{
 "cells": [
  {
   "cell_type": "markdown",
   "metadata": {},
   "source": [
    "# Day 0 - Kickoof\n",
    "\n",
    "### Introductions\n",
    "\n",
    "\n",
    "### Installfest\n",
    "    * Virtualbox\n",
    "        * Setup virtual network\n",
    "    * Kali Linux 2018.3\n",
    "    * Windows 10 Evaluation Version\n",
    "    * Flash card setup and rules"
   ]
  }
 ],
 "metadata": {
  "kernelspec": {
   "display_name": "Python 3",
   "language": "python",
   "name": "python3"
  },
  "language_info": {
   "codemirror_mode": {
    "name": "ipython",
    "version": 3
   },
   "file_extension": ".py",
   "mimetype": "text/x-python",
   "name": "python",
   "nbconvert_exporter": "python",
   "pygments_lexer": "ipython3",
   "version": "3.6.2"
  }
 },
 "nbformat": 4,
 "nbformat_minor": 2
}
