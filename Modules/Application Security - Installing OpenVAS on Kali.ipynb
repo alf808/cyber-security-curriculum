{
 "cells": [
  {
   "cell_type": "markdown",
   "metadata": {
    "collapsed": true
   },
   "source": [
    "# Installing OpenVAS on Kali\n",
    "\n",
    "### Download & Install\n",
    "1. Run the following commands to install OpenVAS on Kali\n",
    "\n",
    "```bash\n",
    "apt-get update\n",
    "apt-get install openvas\n",
    "openvas-setup\n",
    "```\n",
    "\n",
    "1. Take note of the password provided at the end of setup in the format of `xxx-xxx-xxx-xxx-xxx`\n",
    "1. If you miss the password for any reason run the following command to create a new one: `openvasmd --user=admin --new-password=new_password`\n",
    "1. You can verify that all 4 OpenVAS daemons are running with: `netstat –antp`\n",
    "    \n",
    "### Launch OpenVAS in your browser\n",
    "1. Go to: https://127.0.0.1:9392/#/\n",
    "1. Login with user `admin` and the password you copied from the end of the setup script\n",
    "\n",
    "### Starting OpenVAS\n",
    "1. If the service is not running you can always start the process with `openvas-start` which will start all the needed processes\n",
    "\n",
    "### OpenVAS Architecture\n",
    "- CLI options for management and scanning (omp)\n",
    "- OpenVAS Scanner (openvasmd)\n",
    "- Greenbone Client (gsad)\n",
    "- OpenVAS Manager (openvassd)\n",
    "\n",
    "### Resources\n",
    "* https://hackertarget.com/openvas-tutorial-tips/"
   ]
  }
 ],
 "metadata": {
  "kernelspec": {
   "display_name": "Python 3",
   "language": "python",
   "name": "python3"
  },
  "language_info": {
   "codemirror_mode": {
    "name": "ipython",
    "version": 3
   },
   "file_extension": ".py",
   "mimetype": "text/x-python",
   "name": "python",
   "nbconvert_exporter": "python",
   "pygments_lexer": "ipython3",
   "version": "3.6.2"
  }
 },
 "nbformat": 4,
 "nbformat_minor": 2
}
