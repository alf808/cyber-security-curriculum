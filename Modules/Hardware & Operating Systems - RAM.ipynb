{
 "cells": [
  {
   "cell_type": "markdown",
   "metadata": {},
   "source": [
    "# Hardware & Operating Systems - Microprocessors\n",
    "\n",
    "#### 1. Topics/Sub-Topics\n",
    "\n",
    "- What is RAM?\n",
    "- What is DRAM?\n",
    "- What is SDRAM?\n",
    "- What is RDRAM?\n",
    "- What is DDR RAM?\n",
    "- What is a DRAM chip vs a \"stick\" or \"module\" of RAM?\n",
    "- What do DDR speed ratings mean?\n",
    "- What is a dual-channel architecture?\n",
    "\n",
    "#### 2. Pre-requisites\n",
    "    - CompTIA A+ Chapter 3, 4\n",
    "\n",
    "#### 3. Desired Outcomes\n",
    "- Students can define the main function of RAM\n",
    "- Students can define the difference between the different types of RAM\n",
    "- Students understand how the CPU, MCC and RAM work together to process instructions\n",
    "- Students understand how to identify the amount of RAM for a system\n",
    "- Students understand how to replace RAM in a PC or laptop\n",
    "- Students understand what SDRAM is\n",
    "- Students know what a DIMM is\n",
    "- Students understand what speed ratings mean\n",
    "- Students understand what a dual-channel architecture is\n",
    "\n",
    "#### 4. Resources\n",
    "- [A+ Ninth Edition Study Guide](https://drive.google.com/file/d/1sBO4JPU8b43FzC03mTctugJc-ICHLZlP/view?usp=sharing)\n",
    "- [A+ 220-901 Exam Study Objectives](https://drive.google.com/open?id=1HFbvLvM9XoxiZZ73R3ExIgFlUzn_dKvx)\n",
    "\n",
    "#### 5. Challenges/Exercises\n",
    "    - Lab/Lecture: \n",
    "    - Lab: Have students and instructors download CPU-Z for both Windows(native or virtual machine) and Android and document and analyze your findings.\n",
    "        - [Windows](https://www.cpuid.com/)\n",
    "        - Android Play Store\n",
    "    - Assignment: \n",
    "        \n",
    "#### 6. Self Study Objectives\n",
    "\n",
    "- Read CompTIA A+ - Chapter 5\n",
    "- Take Chapter 5 exam tests\n",
    "- Build out personal question list\n",
    "- Groom individual student backlog\n",
    "\n",
    "#### 7. Estimated Time\n",
    "\n",
    "#### 8. Applicable Standards\n",
    "If there are any publicly available standards that can be mapped to this module they should be identified here.\n",
    "    - NIST ???\n",
    "\n"
   ]
  }
 ],
 "metadata": {
  "kernelspec": {
   "display_name": "Python 3",
   "language": "python",
   "name": "python3"
  },
  "language_info": {
   "codemirror_mode": {
    "name": "ipython",
    "version": 3
   },
   "file_extension": ".py",
   "mimetype": "text/x-python",
   "name": "python",
   "nbconvert_exporter": "python",
   "pygments_lexer": "ipython3",
   "version": "3.6.2"
  }
 },
 "nbformat": 4,
 "nbformat_minor": 2
}
