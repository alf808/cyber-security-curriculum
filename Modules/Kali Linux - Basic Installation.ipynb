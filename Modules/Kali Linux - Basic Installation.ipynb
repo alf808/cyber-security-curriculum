{
 "cells": [
  {
   "cell_type": "markdown",
   "metadata": {},
   "source": [
    "# Kali Linux - Basic Installation\n",
    "\n",
    "#### 1. Topics/Sub-Topics\n",
    "\n",
    "    - What is Kali?\n",
    "        - Who uses it?\n",
    "        - How was it developed?\n",
    "    - Run in Live mode\n",
    "        - Run \n",
    "    - Install Operating System\n",
    "        - Install as virtual machine\n",
    "        - Install on disk\n",
    "        - Setup with LVM and what is an LVM\n",
    "        - Setup encrypted LVM\n",
    "        - Why setup with LVM\n",
    "        - Separating partitions during installation\n",
    "        - Setting up GRUB\n",
    "        - (Optional) - Setting up an HTTP proxy for outside access\n",
    "\n",
    "#### 2. Pre-requisites\n",
    "    - Knowledge of operating systems\n",
    "    - Basic Linux familiarity\n",
    "\n",
    "#### 3. Desired Outcomes\n",
    "    - Knowledge of installing Kali Linux on hard drive\n",
    "    - Knowledge of installing Kali Linux as virtual machine\n",
    "    - Knowledge of running Kali Linux in Live Mode from USB\n",
    "    - Knowledge of installing Kali Linux as a bootable USB\n",
    "    - Knowledge of installing Kali Linux with encrypted partition on bootable USB\n",
    "    - Knowledge of various configuration options for installing Kali Linux\n",
    "    - Knowledge of how to configure Kali Linux to use LVM\n",
    "    - Knowledge of how to configure Kali Linux to use encrypted LVM\n",
    "    - Knowledge of the use cases for the various installation options\n",
    "\n",
    "#### 4. Resources\n",
    "\n",
    "    - Kali USB LUKS Encrypted Peristent Storage - https://www.offensive-security.com/kali-linux/usb-multiple-persistent-stores/\n",
    "\n",
    "#### 5. Challenges/Exercises\n",
    "\n",
    "    - Workshop: Create bootable USB thumb drive with Kali Linux with LUKS encryption\n",
    "    - Workshop: Create Kali virtual machine on host\n",
    "    - Workshop(Optional): Dual boot a machine with Kali Linux as a host\n",
    "\n",
    "#### 6. Self Study Objectives\n",
    "\n",
    "    - Look into or install other Security related Linux distros such as:\n",
    "        - ParrotOS\n",
    "        - Tails\n",
    "        - Others...??\n",
    "\n",
    "#### 7. Estimated Time\n",
    "Introduction to Linux should be ~2 hours of hands on setup for both USB and virtual machine install. Using utilities within Kali should be handled in other workshops\n",
    "\n",
    "#### 8. Applicable Standards\n",
    "If there are any publicly available standards that can be mapped to this module they should be identified here.\n",
    "    - NIST 178 - Communicate with human superior\n",
    "    "
   ]
  }
 ],
 "metadata": {
  "kernelspec": {
   "display_name": "Python 3",
   "language": "python",
   "name": "python3"
  },
  "language_info": {
   "codemirror_mode": {
    "name": "ipython",
    "version": 3
   },
   "file_extension": ".py",
   "mimetype": "text/x-python",
   "name": "python",
   "nbconvert_exporter": "python",
   "pygments_lexer": "ipython3",
   "version": "3.6.2"
  }
 },
 "nbformat": 4,
 "nbformat_minor": 2
}
