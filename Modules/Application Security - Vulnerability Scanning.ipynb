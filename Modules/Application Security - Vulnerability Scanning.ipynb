{
 "cells": [
  {
   "cell_type": "markdown",
   "metadata": {},
   "source": [
    "# Vulnerability Scanning\n",
    "\n",
    "### Types of Vulnerability Tests/Classes\n",
    "\n",
    "#### NVT (Network Vulnerability Test)\n",
    "An **NVT** is a plugin that tests a network or host to identify an existing vulnerability and remedidation.\n",
    "\n",
    "#### CVE (Common Vulnerabilities & Exposures)\n",
    "The CVE is a open system aggregating known vulnerabilities and data about them. This helps to standardize and track vulnerabilities with unique identifiers and usage statistics.\n",
    "\n",
    "#### CPE (Common Platform Enumeration)\n",
    "CPE is a new standard by the same organization that manages CVE with a focus on how to enumerate software effectively.\n",
    "\n",
    "#### OVAL (Open Vulnerability and Assessment Language)\n",
    "OVAL is a community based effort to standardize the way in which machine state is communicated and reported.\n",
    "\n",
    "#### Use Cases\n",
    "- Network Scanning\n",
    "- Web Application Scanning\n",
    "- Scanning for Specific Vulnerabilities\n",
    "- Automation and Collaboration\n",
    "- Scheduling and Reporting\n",
    "\n",
    "#### Common Tools\n",
    "- `nikto` - Simple CLI tool generating HTML output\n",
    "- `OpenVAS` - Open source but limited functionality, uses other open source tools that must also be installed, lots of comparable features but little less polished UI/UX\n",
    "- `Nessus` - Enterprise grade suite with support for policies, plugins/extensibility, host and network based vulnerability scanning, cleaner UI, advanced scanning options, etc...\n",
    "- `Retina` - Free and enterprise editions\n",
    "\n",
    "**NOTE:** Sometimes running multiple scanners can produce different results\n",
    "\n",
    "#### CVSS (Common Vulnerability Scoring System)\n",
    "The CVSS allows you to determine the severity of common vulnerabilities. The tool essentially compares the ease and impact of a reported vulnerability and allows decision makers to prioritize response based on metrics important to the organization.\n",
    "\n",
    "### Resources\n",
    "- https://www.cvedetails.com/\n",
    "- https://en.wikipedia.org/wiki/Common_Vulnerabilities_and_Exposures\n",
    "- https://cve.mitre.org/cve/search_cve_list.html\n",
    "- https://nvd.nist.gov/feeds/xml/cpe/dictionary/official-cpe-dictionary_v2.2.xml\n",
    "- https://en.wikipedia.org/wiki/Common_Vulnerability_Scoring_System"
   ]
  },
  {
   "cell_type": "code",
   "execution_count": null,
   "metadata": {
    "collapsed": true
   },
   "outputs": [],
   "source": []
  }
 ],
 "metadata": {
  "kernelspec": {
   "display_name": "Python 3",
   "language": "python",
   "name": "python3"
  },
  "language_info": {
   "codemirror_mode": {
    "name": "ipython",
    "version": 3
   },
   "file_extension": ".py",
   "mimetype": "text/x-python",
   "name": "python",
   "nbconvert_exporter": "python",
   "pygments_lexer": "ipython3",
   "version": "3.6.2"
  }
 },
 "nbformat": 4,
 "nbformat_minor": 2
}
