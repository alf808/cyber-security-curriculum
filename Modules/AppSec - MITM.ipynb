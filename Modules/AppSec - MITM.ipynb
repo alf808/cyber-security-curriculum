{
 "cells": [
  {
   "cell_type": "markdown",
   "metadata": {},
   "source": [
    "#### MITM Attacks\n",
    "- Hacker can create MITM by having users connect to fake access point, then capture all traffic.\n",
    "- Most effective attacks are when they gather ton of info and use it at a later point.\n",
    " ![Imgur](https://i.imgur.com/oO5IcaJ.png)\n",
    "- Default Setting for most computers is to remember every wifi connection you've ever connected to unless you clear it out. When you come back to a network example home, computer will auto connect to it.\n",
    "- He used a wifi pinnaple to scan all computers in room and show which wifi they have connected to in past. Pinapple will allow you to connect to wifi and create another fake access point at the same time. ***** Need to setup our pinnaple and write excersises creating fake access point and scanning*****\n",
    "  ![Imgur](https://i.imgur.com/iGWWpag.png)\n",
    " - When you join a network, your computer always uses the first DNS that the router provides. \n",
    " ![Imgur](https://i.imgur.com/hZfhLQ9.png)\n",
    " \n",
    " #### Hardware\n",
    "![Imgur](https://i.imgur.com/cdQbeK2.png)\n",
    "- Femtocell creates tiny cell tower in your home that your devices will connect to. Your devices will auto connect to this and anyone walking by can take advantage of the service.\n",
    "- ALWAYS assume that someone will MITM your users.\n",
    "![Imgur](https://i.imgur.com/LUMHIcL.png)\n",
    "\n",
    "#### How to protect against MITM\n",
    "- Need to encrypt your data in flight with HTTPS.\n",
    "- Must submit proof that you are in control of a domain to certificate authority like adding an entry to DNS table or something.\n",
    " ![Imgur](https://i.imgur.com/5T8KEAQ.png)"
   ]
  }
 ],
 "metadata": {
  "kernelspec": {
   "display_name": "Python 3",
   "language": "python",
   "name": "python3"
  },
  "language_info": {
   "codemirror_mode": {
    "name": "ipython",
    "version": 3
   },
   "file_extension": ".py",
   "mimetype": "text/x-python",
   "name": "python",
   "nbconvert_exporter": "python",
   "pygments_lexer": "ipython3",
   "version": "3.6.2"
  }
 },
 "nbformat": 4,
 "nbformat_minor": 2
}
