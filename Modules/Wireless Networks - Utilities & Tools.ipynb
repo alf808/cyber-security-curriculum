{
 "cells": [
  {
   "cell_type": "markdown",
   "metadata": {},
   "source": [
    "# Wireless Networks - Utilities & Tools\n",
    "\n",
    "#### 1. Topics/Sub-Topics\n",
    "For each module, there should be a high level topic identified that is the core focus of the module. Any sub-topics, soft skills or other areas of focus that should be touched upon in this module should be detailed. Suggest to keep the objective of a module small in scope for flexiblity in order of delivery in a course format.\n",
    "\n",
    "    - iw (Linux)\n",
    "    - iwlist (Linux)\n",
    "    - iwconfig (Linux)\n",
    "    - rfkill (Linux)\n",
    "    - netsh(Windows)\n",
    "    - NetSurveyor(Windows)\n",
    "    - airmon-ng\n",
    "    - airodump-ng\n",
    "    - wifite\n",
    "\n",
    "#### 2. Pre-requisites\n",
    "\n",
    "#### 3. Desired Outcomes\n",
    "\n",
    "#### 4. Resources\n",
    "- [Tools for Discovering Hidden Wireless Networks](https://www.raymond.cc/blog/how-to-discover-hidden-wireless-network/)\n",
    "- [Airodump-ng Documentation](https://aircrack-ng.org/~root/doku.php?id=airodump-ng)\n",
    "\n",
    "#### 5. Challenges/Exercises\n",
    "\n",
    "#### 6. Self Study Objectives\n",
    "\n",
    "#### 7. Estimated Time\n",
    "\n",
    "#### 8. Applicable Standards\n",
    "\n"
   ]
  }
 ],
 "metadata": {
  "kernelspec": {
   "display_name": "Python 3",
   "language": "python",
   "name": "python3"
  },
  "language_info": {
   "codemirror_mode": {
    "name": "ipython",
    "version": 3
   },
   "file_extension": ".py",
   "mimetype": "text/x-python",
   "name": "python",
   "nbconvert_exporter": "python",
   "pygments_lexer": "ipython3",
   "version": "3.6.2"
  }
 },
 "nbformat": 4,
 "nbformat_minor": 2
}
