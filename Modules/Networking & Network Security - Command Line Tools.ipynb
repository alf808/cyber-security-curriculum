{
 "cells": [
  {
   "cell_type": "markdown",
   "metadata": {},
   "source": [
    "## Netstat, Ping and Traceroute\n",
    "\n",
    "\n",
    "### Ping\n",
    "Ping is the most basic TCP/IP utility\n",
    " 1. to find out how a host is responding\n",
    " 1. to find out if you can reach a host\n",
    "    \n",
    "Ping hostname or IP address\n",
    "\n",
    "ping -a - name resolution and shows the name of the destination host\n",
    "ping -n - set the number of echo requests (4 is default)\n",
    "\n",
    "Reply = I know that I can reach the host and that its responding to basic IP requests\n",
    "\n",
    "ping -n 5 -l 1500 www.google.com  (send 5 packets instead of 4, and set packet size to 1500 bytes instead of 32)\n",
    "\n",
    "###  Netstat\n",
    "Every open port on your computer is an entry point that can be exploited to gain covert access. So if you need to know what connections a machine has to the internet and what services may be open and running, Netstat can quickly tell you.\n",
    "\n",
    "Netstat- used in windows to display status of ports\n",
    "checks inbound and outbound TCP/IP connections\n",
    "\n",
    "Local address = source port and address\n",
    "foreign address = address of destination\n",
    "established = when a TCP connection between your computer and destination computer has been established\n",
    "\n",
    "netstat /?  to show options \n",
    "\n",
    "Netstat -ano \n",
    "    -a displays all TCP/IP connections and all UDP connections\n",
    "    -r shows route table\n",
    "    -n output displays the network addresses instead of network name\n",
    "    \n",
    "\n",
    "### Traceroute\n",
    "Displays the path a packet takes to get to a remote device in all its glory by using TTL time-outs and ICMP error messages\n",
    "\n",
    "- Traceroute operates by sending packets with TTL value starting from 1 and then incrementing by one each time. Each time a router receives the packet, it checks the TTL field, if TTL field is 1 then it discards the packet and sends the ICMP error packet containing its IP address and this is what traceroute requires. So traceroute incrementally fetches the IP of all the routers  between the source and the destination.\n",
    "\n",
    "- type tracert a space and the DNS name or ip address of host you want to find route too\n",
    "- responds with a list of DNS names and IP addresses of the routers that the packet is passing through on its way\n",
    "- Each lines gives the details of interaction with each router encountered.\n",
    "\n",
    "tracert \n",
    "\n",
    "### Wireshark\n",
    "\n",
    "edit -> preferences -> Name resolution \n",
    "\n",
    "ip.addr ==x.x.x.x\n",
    "ip.addr ==x.x.x.x && ip.addr ==x.x.x.x (Filter on a communication between 2 devices)\n",
    "tcp.port==xxx\n",
    "https://wiki.wireshark.org/TCP_Reassembly\n",
    "\n",
    "tcp contains string \n",
    "https://www.wireshark.org/dj\n",
    "\n"
   ]
  }
 ],
 "metadata": {
  "kernelspec": {
   "display_name": "Python 3",
   "language": "python",
   "name": "python3"
  },
  "language_info": {
   "codemirror_mode": {
    "name": "ipython",
    "version": 3
   },
   "file_extension": ".py",
   "mimetype": "text/x-python",
   "name": "python",
   "nbconvert_exporter": "python",
   "pygments_lexer": "ipython3",
   "version": "3.6.3"
  }
 },
 "nbformat": 4,
 "nbformat_minor": 2
}
