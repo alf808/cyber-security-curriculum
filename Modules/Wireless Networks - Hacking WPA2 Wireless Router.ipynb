{
 "cells": [
  {
   "cell_type": "markdown",
   "metadata": {},
   "source": [
    "# Wireless Networks - Hacking WPA2 Wireless\n",
    "\n",
    "#### 1. Topics/Sub-Topics\n",
    "    - How to capture traffic on a wireless network\n",
    "    - How to put a NIC/Wireless card in monitor/promiscous mode\n",
    "    - How to scan for available wireless networks\n",
    "        - `iwlist wlan0 scan` (older method)\n",
    "        - `iw dev wlan0 scan` (newer utility, more info)\n",
    "        - Take note of relevant information needing for attacking target\n",
    "            - MAC Address\n",
    "            - Channel\n",
    "            - Frequency\n",
    "            - Encryption on/off\n",
    "            - ESSID\n",
    "    - How to put your wireless card into monitor mode\n",
    "        - Run `airmon-ng check`\n",
    "            - Look at output to see if any running process may conflict with `airmon-ng`\n",
    "            - Option: Some cards have no problem, but to be sure you can kill all processes that may intefere with `airmon-ng check kill`\n",
    "        - Run `airmon-ng start wlan0`\n",
    "        - Card should now be in monitor mode with output showing that it created a wireless interface called `mon0`\n",
    "            - NOTE: To return to Managed mode at any time run `airmon-ng stop wlan0mon`. You may need to do this two times. Running `iwconfig` should show the `wlan0` interface again. May also need to run `service network-manager restart`\n",
    "        - Run `iwconfig`\n",
    "            - Should see new `wlan0mon` interface with `Mode: Monitor`\n",
    "        - Run `airodump-ng mon0 --channel 6`\n",
    "            - You will see all wireless networks in range broadcasting on channel 6 and information about them including\n",
    "                - BSSID (MAC Address)\n",
    "                - Encryption algorithm used\n",
    "                - ESSID (Station Name)\n",
    "                - MAC address of connected clients\n",
    "\n",
    "#### 2. Pre-requisites\n",
    "- Kali Linux installation native or virtual machine with USB wireless card\n",
    "- Wireless Card that supports monitor mode(RFMON)\n",
    "- Basic knowledge of wireless networks\n",
    "\n",
    "#### 3. Desired Outcomes\n",
    "\n",
    "#### 4. Resources\n",
    "- Hacking WPA2 Router Instructable - http://www.instructables.com/id/Hack-wifi-/\n",
    "- [Airodump-ng Documentation](https://aircrack-ng.org/~root/doku.php?id=airodump-ng)\n",
    "- How to Put Mac Wireless Card in Monitor Mode - https://unix.stackexchange.com/questions/48671/how-to-put-mac-os-x-wireless-adapter-in-monitor-mode\n",
    "- Running Kali in Docker To Use Host Network Stack - https://deshmukhsuraj.wordpress.com/2015/06/30/run-airmon-ng-from-vm-without-external-usb-wireless-card/\n",
    "- Wireless Tools for Linux - https://en.wikipedia.org/wiki/Wireless_tools_for_Linux#Alternatives\n",
    "\n",
    "#### 5. Challenges/Exercises\n",
    "\n",
    "\n",
    "#### 6. Self Study Objectives\n",
    "\n",
    "#### 7. Estimated Time\n",
    "\n",
    "#### 8. Applicable Standards\n",
    "    \n"
   ]
  },
  {
   "cell_type": "code",
   "execution_count": null,
   "metadata": {
    "collapsed": true
   },
   "outputs": [],
   "source": []
  }
 ],
 "metadata": {
  "kernelspec": {
   "display_name": "Python 3",
   "language": "python",
   "name": "python3"
  },
  "language_info": {
   "codemirror_mode": {
    "name": "ipython",
    "version": 3
   },
   "file_extension": ".py",
   "mimetype": "text/x-python",
   "name": "python",
   "nbconvert_exporter": "python",
   "pygments_lexer": "ipython3",
   "version": "3.6.2"
  }
 },
 "nbformat": 4,
 "nbformat_minor": 2
}
