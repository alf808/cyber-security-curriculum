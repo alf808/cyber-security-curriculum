{
 "cells": [
  {
   "cell_type": "markdown",
   "metadata": {},
   "source": [
    "# Wireless Networks - Hacking WPA2 Wireless\n",
    "\n",
    "#### 1. Topics/Sub-Topics\n",
    "    - How to capture traffic on a wireless network\n",
    "    - How to put a NIC/Wireless card in monitor/promiscous mode\n",
    "\n",
    "#### 2. Pre-requisites\n",
    "\n",
    "#### 3. Desired Outcomes\n",
    "\n",
    "#### 4. Resources\n",
    "\n",
    "    - Hacking WPA2 Router Instructable - http://www.instructables.com/id/Hack-wifi-/\n",
    "    - How to Put Mac Wireless Card in Monitor Mode - https://unix.stackexchange.com/questions/48671/how-to-put-mac-os-x-wireless-adapter-in-monitor-mode\n",
    "    - Running Kali in Docker To Use Host Network Stack - https://deshmukhsuraj.wordpress.com/2015/06/30/run-airmon-ng-from-vm-without-external-usb-wireless-card/\n",
    "\n",
    "#### 5. Challenges/Exercises\n",
    "\n",
    "#### 6. Self Study Objectives\n",
    "\n",
    "#### 7. Estimated Time\n",
    "\n",
    "#### 8. Applicable Standards\n",
    "    \n"
   ]
  },
  {
   "cell_type": "code",
   "execution_count": null,
   "metadata": {
    "collapsed": true
   },
   "outputs": [],
   "source": []
  }
 ],
 "metadata": {
  "kernelspec": {
   "display_name": "Python 3",
   "language": "python",
   "name": "python3"
  },
  "language_info": {
   "codemirror_mode": {
    "name": "ipython",
    "version": 3
   },
   "file_extension": ".py",
   "mimetype": "text/x-python",
   "name": "python",
   "nbconvert_exporter": "python",
   "pygments_lexer": "ipython3",
   "version": "3.6.2"
  }
 },
 "nbformat": 4,
 "nbformat_minor": 2
}
