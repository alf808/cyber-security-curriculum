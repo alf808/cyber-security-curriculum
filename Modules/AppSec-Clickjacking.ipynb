{
 "cells": [
  {
   "cell_type": "markdown",
   "metadata": {},
   "source": [
    "#### ClickJacking\n",
    "- Have a similar domain close to the actual one. Legit one on left, fake one on right.\n",
    "- Creates a landing page to get the user to click something. Iframe the original app and place right on top of button, reduce opacitity to zero, so user thinks they interacting with one page but actually tricking them to click the link.\n",
    " ![Imgur](https://i.imgur.com/5gOPtpv.png)\n",
    " - Most famous click jacking attack was adobe flash security settings panel. Tricked users to opening up their security panel and escalate privalges from there since flash has pretty broad security privlages. \n",
    " ![Imgur](https://i.imgur.com/AdnbCNk.png)\n",
    " - User thinks interacting with one UI but interacting with a different one. \n",
    " - Good click attacks can use iframes to correctly position things on page so appears text is arriving on page correctly via when typing in input field for example.\n",
    " ![Imgur](https://i.imgur.com/GdyXvuw.png)\n",
    " \n",
    " #### Challenge: Clickjacking\n",
    " ![Imgur](https://i.imgur.com/jR7FCqM.png)\n",
    " \n",
    "  ##### Solution: \n",
    "  - Create the following structure in jsbin and make sure logged into test site.\n",
    "  ![Imgur](https://i.imgur.com/97WK5RZ.png)\n",
    "  - Inspect jsbin output and find iframe in dev tools.\n",
    "  ![Imgur](https://i.imgur.com/5nmw79n.png)\n",
    "  - Position the iframe by adding ```left: 200px top:-320px``` into your iframe code.\n",
    "  - Log back into test site then run code in jsbin. Now change opacity to 0, iframe disappears and user clicks on button and nothing happens but each click is transfering money $100. Refresh test page and will see money has been transfered.\n",
    "  - Notice the switch that happens when hover over button then where iframe is sitting. Dead give away theres a hidden frame there.\n",
    "\n",
    "#### How to stop Clickjacking\n",
    "- First one Deny, tells browser that it's not allowed to put inside another page.\n",
    "- Second option SAMEORIGIN, tells browser only render frame if top level frame is always from same origin.\n",
    "- Third option Allow-from, tells browser only to accept from a specific origin.\n",
    "![Imgur](https://i.imgur.com/kF4YNcc.png)\n",
    "- This code says don't dislplay the body and use !important to superceed any browser styles.\n",
    "- Second part of code says if you are the top iframe, grab style and remove it, else will set location of containing frame to our location.\n",
    "![Imgur](https://i.imgur.com/7fajKUv.png)\n",
    "\n",
    "#### Challenge: Defend against Clickjacking\n",
    "- Will work in server/views/main-layout.ejs for legacy browser solution.\n",
    "- For modern browser will work in server/index.js and add in reqheader.\n",
    "![Imgur](https://i.imgur.com/N4X6ZJN.png)\n",
    "  \n",
    "   ##### Solution:\n",
    "   - Add follwing code in main-layout.ejs\n",
    "   - Says if top = self means not currently being framed inside something and will remove the clickjack style element otherwise will try to navigate to current location.\n",
    "   ![Imgur](https://i.imgur.com/glXyLxV.png)\n",
    "   - Log back into test site and run code in jsbin turning opacity up so can see the iframe. Inspect iframe and in console type ```self``` and ```top``` notice they are two different windows.\n",
    "   ![Imgur](https://i.imgur.com/LGLZNSI.png)\n",
    "   \n",
    "   - Add following style tag in head of main-layout.ejs\n",
    "  ![Imgur](https://i.imgur.com/l8uvPIE.png)\n",
    "   \n",
    "   - Add request header in index.js to deny\n",
    "  ![Imgur](https://i.imgur.com/LXsNIBL.png)\n",
    "  \n",
    "  - Refresh test page and will reseive error cause we are violation our CSP.\n",
    "  ![Imgur](https://i.imgur.com/YlK7m4x.png)\n",
    "  \n",
    "  - Update csp settings in index.js using sha value from error message. Refresh page and now can log back in.\n",
    "  ![Imgur](https://i.imgur.com/Vq2nXd4.png)\n",
    "\n",
    "  - Log back into test page and run code again in jsbin. Will get error, so shows that code worked to stop displaying iframe.\n",
    "  ![Imgur](https://i.imgur.com/CpR6UNn.png)\n",
    "  \n",
    "   "
   ]
  },
  {
   "cell_type": "code",
   "execution_count": null,
   "metadata": {},
   "outputs": [],
   "source": []
  }
 ],
 "metadata": {
  "kernelspec": {
   "display_name": "Python 3",
   "language": "python",
   "name": "python3"
  },
  "language_info": {
   "codemirror_mode": {
    "name": "ipython",
    "version": 3
   },
   "file_extension": ".py",
   "mimetype": "text/x-python",
   "name": "python",
   "nbconvert_exporter": "python",
   "pygments_lexer": "ipython3",
   "version": "3.6.2"
  }
 },
 "nbformat": 4,
 "nbformat_minor": 2
}
