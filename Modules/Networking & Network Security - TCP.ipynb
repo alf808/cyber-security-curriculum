{
 "cells": [
  {
   "cell_type": "markdown",
   "metadata": {},
   "source": [
    "# Transmission Control Protocol (TCP)\n",
    "\n",
    "Before a transmitting host starts to send segments down the model, the senders TCP process contracts the destinations TCP process to establish a connection\n",
    "\n",
    "Connection Oriented\n",
    "During the initial handshake, the two TCP processes also agree on the amount of information that will be sent in either direction before recipient sends back an acknowledgement.\n",
    "\n",
    "With everything agreed in advance, the path is paved for reliable communication \n",
    "\n",
    "While the information is being transfered between hosts, the two machines periodically checkin with each other, to make sure everything is going well.\n",
    "\n",
    "Three way Handshake\n",
    "SYN First connection agreement is a request for synchronization\n",
    "SYN-ACK Acknowledge the request and establish connection ruless between hosts\n",
    "ACK Final Segment is Acknowledgment and notifies destination host that the connection agreement has been accepted \n",
    "\n",
    "\n",
    "Congestion can occur\n",
    "bottlenecking\n",
    "\n",
    "\n",
    "Flow Control\n",
    "- Data integrity is ensured at the transport layer by maintaining flow control\n",
    "- Provides a means for the receiver to govern the amount of data sent by the sender\n",
    "- Prevents a sending host on one side of the connection from overflowing the buffers to the receiving host.\n",
    "- The segments delivered are acknowledged back tot he sender upon reception\n",
    "- Any segments not acknowledged are retransmitted\n",
    "- Manageable data flow is maintained in order to prevent congestion, overloading and data loss\n",
    "\n",
    "\n",
    "If too many packets are sent or they are sent too quickly, the computer stores them in the memory section called buffer. If it keeps flooding the device it will eventually start dropping packets and discarding the additional datagrmas that arrive.\n",
    "\n",
    "Network flood control systems actually work pretty well \n",
    "The transport can issue a not ready indicator to the sender or source of the flood\n",
    "\n",
    "\n",
    "A service is considered connection-oriented if:\n",
    "1. Uses a three-way handshake\n",
    "2. Uses Sequencing\n",
    "3. Uses Acknowledgements\n",
    "4. Uses flow control\n"
   ]
  }
 ],
 "metadata": {
  "kernelspec": {
   "display_name": "Python 3",
   "language": "python",
   "name": "python3"
  },
  "language_info": {
   "codemirror_mode": {
    "name": "ipython",
    "version": 3
   },
   "file_extension": ".py",
   "mimetype": "text/x-python",
   "name": "python",
   "nbconvert_exporter": "python",
   "pygments_lexer": "ipython3",
   "version": "3.6.3"
  }
 },
 "nbformat": 4,
 "nbformat_minor": 2
}
