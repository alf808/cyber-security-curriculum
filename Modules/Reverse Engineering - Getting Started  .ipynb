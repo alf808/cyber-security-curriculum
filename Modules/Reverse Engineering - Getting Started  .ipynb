{
 "cells": [
  {
   "cell_type": "markdown",
   "metadata": {},
   "source": [
    "# Reverse Engineering - Getting Started\n",
    "\n",
    "#### 1. Topics/Sub-Topics\n",
    "\n",
    "- TBD\n",
    "\n",
    "#### 2. Pre-requisites\n",
    "- Prior programming experience\n",
    "- Prior knowledge of how a CPU processes instructions in memory\n",
    "\n",
    "\n",
    "#### 3. Desired Outcomes\n",
    "\n",
    "\n",
    "#### 4. Resources\n",
    "- [Where to start - Reddit](https://www.reddit.com/r/ReverseEngineering/comments/12ajwc/how_to_start_out_in_reverse_engineering/)\n",
    "- [Getting started with basic assembly](http://www.hackguide4u.com/2011/08/reverse-engineering-hacking-tutorial_11.html)\n",
    "- [Reverse Engineering Resources - Getting Started](http://amanda.secured.org/how-to-start-reverse-engineering-malware/)--\n",
    "- [Lena's Reversing for Newbies](https://tuts4you.com/download.php?view.2876)\n",
    "- [Ollydbg - Windows Dissasembler](http://www.ollydbg.de/)\n",
    "- [IDA - Freeware Dissasembler - Limited Functionality](https://www.hex-rays.com/products/ida/support/download_freeware.shtml)\n",
    "- [x86 Assembly Instruction List](https://en.wikipedia.org/wiki/X86_instruction_listings)\n",
    "- [Understanding C By Learning Assembly](https://www.recurse.com/blog/7-understanding-c-by-learning-assembly)\n",
    "- [Journey to the Stack](http://cryptroix.com/2016/10/16/journey-to-the-stack/)\n",
    "- [Cheat Engine](http://www.cheatengine.org/)\n",
    "- [LaFarge CrackMe #2](https://github.com/JC-SoCal/ReverseEngineering/tree/master/LaFarge%20Crackme%20%232)\n",
    "- [IDA Disassembler](https://www.hex-rays.com/products/ida/index.shtml)\n",
    "- [Immunity Debugger](https://www.immunityinc.com/products/debugger/)\n",
    "\n",
    "#### 5. Challenges/Exercises\n",
    "    - Lab: Use Cheat Engine to do LaFarge CrackMe #2\n",
    "\n",
    "#### 6. Self Study Objectives\n",
    "\n",
    "\n",
    "#### 7. Estimated Time\n",
    "\n",
    "\n",
    "#### 8. Applicable Standards\n",
    "If there are any publicly available standards that can be mapped to this module they should be identified here.\n",
    "    - NIST ???"
   ]
  }
 ],
 "metadata": {
  "kernelspec": {
   "display_name": "Python 3",
   "language": "python",
   "name": "python3"
  },
  "language_info": {
   "codemirror_mode": {
    "name": "ipython",
    "version": 3
   },
   "file_extension": ".py",
   "mimetype": "text/x-python",
   "name": "python",
   "nbconvert_exporter": "python",
   "pygments_lexer": "ipython3",
   "version": "3.6.2"
  }
 },
 "nbformat": 4,
 "nbformat_minor": 2
}
