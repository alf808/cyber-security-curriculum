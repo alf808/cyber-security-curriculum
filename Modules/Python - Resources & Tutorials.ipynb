{
 "cells": [
  {
   "cell_type": "markdown",
   "metadata": {},
   "source": [
    "# Python - Resources & Tutorials\n",
    "\n",
    "#### 1. Topics/Sub-Topics\n",
    "\n",
    "- TBD\n",
    "\n",
    "#### 2. Pre-requisites\n",
    "- \n",
    "\n",
    "#### 3. Desired Outcomes\n",
    "\n",
    "\n",
    "#### 4. Resources\n",
    "- [Scapy - Simulating nmap like tools](https://thepacketgeek.com/scapy-p-10-emulating-nmap-functions/)\n",
    "\n",
    "\n",
    "#### 5. Challenges/Exercises\n",
    "    - Lab: \n",
    "\n",
    "#### 6. Self Study Objectives\n",
    "\n",
    "\n",
    "#### 7. Estimated Time\n",
    "\n",
    "\n",
    "#### 8. Applicable Standards\n",
    "If there are any publicly available standards that can be mapped to this module they should be identified here.\n",
    "    - NIST ???\n",
    "\n",
    "\n",
    "https://thepacketgeek.com/scapy-p-10-emulating-nmap-functions/"
   ]
  }
 ],
 "metadata": {
  "kernelspec": {
   "display_name": "Python 3",
   "language": "python",
   "name": "python3"
  },
  "language_info": {
   "codemirror_mode": {
    "name": "ipython",
    "version": 3
   },
   "file_extension": ".py",
   "mimetype": "text/x-python",
   "name": "python",
   "nbconvert_exporter": "python",
   "pygments_lexer": "ipython3",
   "version": "3.6.2"
  }
 },
 "nbformat": 4,
 "nbformat_minor": 2
}
