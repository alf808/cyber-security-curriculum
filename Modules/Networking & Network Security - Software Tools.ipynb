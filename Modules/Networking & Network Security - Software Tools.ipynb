{
 "cells": [
  {
   "cell_type": "markdown",
   "metadata": {},
   "source": [
    "# Software Tools\n",
    "\n",
    "Network Scanners\n",
    "- Packet Sniffers\n",
    "    - packet sniffers look inside every packet in a network segment\n",
    "    - Microsoft Network Monitor\n",
    "    - There are some higher end packet sniffers like _____\n",
    "    - The basic purpose is to collect and analyze each individual packet that is captured on a specific network segment to determine problems like bottlenecks, retransmissions and security breaches\n",
    "    - A broadcast storm being created by a bad NIC\n",
    "    - Cant use them to catch packets passing through routers\n",
    "- Intrusion Detection System / Intrusion Prevention Systems\n",
    "    - IDS detects unwanted attempts to manipulate network segments and/or environments\n",
    "    - identifies, detects and reports unauthorized access to the network as well as any suspicious activity\n",
    "    - Best software for identifying an attack \n",
    "    - IPS is a computer security device that monitors network and/or system activities for any strange or malicious behavior\n",
    "    - If you want to stop an attack than you need to use an IPS\n",
    "        - It can shut down ports or drop certain types of packets\n",
    "    - Snort is one of the best free open source products\n",
    "    - pg. 633\n",
    "    - You would probably find the IDS/IPS positioned between your internal router and the firewall to the outside network (Internet) \n",
    "    - If your using snort, just add the software to a Linux box and connect this box between the firewall and router\n",
    "    - this area would typically be your DMZ \n",
    "    - Basic Analysis and Security Engine \n",
    "- Port Scanners\n",
    "    - Software tool designed to search a host for open ports\n",
    "    - we use them to ensure security but bad guys (or us!) use them to find a networks vulnerabilities and compromise them\n",
    "    - to port scan means the act of scanning for TCP and UDP open ports on a single target host\n",
    "    - port sweeping means scanning multiple hosts on a network for a specific listening TCP or UDP port like sql\n",
    "    - This happens to be a favorite approach used by hackers when trying to invade your network\n",
    "    - they port-sweep in a broad manner and then if they find something they can exploit like a service thats available to exploit\n",
    "    - This is why its a good idea to turn off any unused services \n",
    "    - SYN Scan\n",
    "        - The most popular form of TCP scanning \n",
    "        - Rather than use the operating systems network functions, the port scanner actually generates raw IP packets itself and monitors for responses (half-open scanning because it never really opens a full TCP connection)\n",
    "        - Port scanner generates a SYN packet, and if the targeted port is open it will respond with a SYN-ACK packet\n",
    "        - The scanner then responds with an RST (reset) packet, closing the connection before the handshake is completed\n",
    "    \n",
    "\n",
    "\n",
    "\n",
    "\n"
   ]
  }
 ],
 "metadata": {
  "kernelspec": {
   "display_name": "Python 3",
   "language": "python",
   "name": "python3"
  },
  "language_info": {
   "codemirror_mode": {
    "name": "ipython",
    "version": 3
   },
   "file_extension": ".py",
   "mimetype": "text/x-python",
   "name": "python",
   "nbconvert_exporter": "python",
   "pygments_lexer": "ipython3",
   "version": "3.6.3"
  }
 },
 "nbformat": 4,
 "nbformat_minor": 2
}
