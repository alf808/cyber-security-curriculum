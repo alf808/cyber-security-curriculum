{
 "cells": [
  {
   "cell_type": "markdown",
   "metadata": {},
   "source": [
    "# Intro to Windows Security Policies\n",
    "\n",
    "#### 1. Topics/Sub-Topics\n",
    "- Security Policies\n",
    "    - Usage of Local Security Policy snapin\n",
    "        - `secpol.msc`\n",
    "\n",
    "#### 2. Pre-requisites\n",
    "- Basic knowledge of Windows Users, Groups and Permissions\n",
    "\n",
    "#### 3. Desired Outcomes\n",
    "\n",
    "#### 4. Resources\n",
    "- [A+ Ninth Edition Study Guide](https://drive.google.com/file/d/1sBO4JPU8b43FzC03mTctugJc-ICHLZlP/view?usp=sharing)\n",
    "\n",
    "#### 5. Challenges/Exercises\n",
    "- Activity: Follow along of creating some standard and administrator accounts in different versions of Windows, setup Parental Controls\n",
    "- Exercise: Create a New User Creation manual including security policy for passwords\n",
    "- Exercise: Document the default Windows accounts and their purpose/limitations\n",
    "- Exercise: TBD - Create a number of users, groups, files and folders with different levels of access, etc...\n",
    "\n",
    "#### 6. Self Study Objectives\n",
    "- Read CompTIA A+ - Chapter 15 \n",
    "\n",
    "#### 7. Estimated Time\n",
    "\n",
    "#### 8. Applicable Standards\n",
    "\n"
   ]
  }
 ],
 "metadata": {
  "kernelspec": {
   "display_name": "Python 3",
   "language": "python",
   "name": "python3"
  },
  "language_info": {
   "codemirror_mode": {
    "name": "ipython",
    "version": 3
   },
   "file_extension": ".py",
   "mimetype": "text/x-python",
   "name": "python",
   "nbconvert_exporter": "python",
   "pygments_lexer": "ipython3",
   "version": "3.6.2"
  }
 },
 "nbformat": 4,
 "nbformat_minor": 2
}
