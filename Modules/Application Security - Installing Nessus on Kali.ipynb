{
 "cells": [
  {
   "cell_type": "markdown",
   "metadata": {},
   "source": [
    "# Installing Nessus on Kali\n",
    "\n",
    "### Download & Install\n",
    "1. Download the appropriate version at: https://www.tenable.com/downloads/nessus\n",
    "    - As of this writing the version was: `Nessus-7.0.3-debian6_i386.deb`\n",
    "1. Install package via: `dpkg -i Nessus-7.0.3-debian6_i386.deb`\n",
    "1. Start the `nessusd` daemon via: `service nessusd start` or `/etc/init.d/nessusd start`\n",
    "\n",
    "### Register with Nessus for Community \n",
    "1. Register for the Home edition of Nessus to get an activation code:\n",
    "https://www.tenable.com/products/nessus-home\n",
    "1. Confirm your e-mail address to get activation code\n",
    "\n",
    "### Launch Nessus in your browser\n",
    "1. Go to: https://kali:8834/#/\n",
    "1. Login with your activation code\n",
    "1. Setup a username and password\n",
    "\n",
    "### Update Nessus \n",
    "Nessus will automatically start updating it's vulnerability database and expect this to take some time.\n",
    "\n",
    "When update finishes you will be directed to your dashboard.\n",
    "\n",
    "### Adding users or changing passwords from CLI\n",
    "\n",
    "Nessus installs a couple handly CLI tools located in `/opt/nessus/sbin`\n",
    "\n",
    "You can explore some of the functionality by viewing the `nessuscli --help` menu.\n",
    "\n",
    "The `user` commands can be helpful to setup an instance with users, reset the main account password if it's lost, view users, or remove them.\n",
    "\n",
    "* To change user password: `/opt/nessus/sbin/nessuscli chpassword jaywon`\n",
    "* To add a user: `/opt/nessus/sbin/nessuscli adduser jaywon`\n",
    "* To remove a user: `/opt/nessus/sbin/nessuscli rmuser jaywon`\n",
    "* To list users: `/opt/nessus/sbin/nessuscli lsuser`"
   ]
  }
 ],
 "metadata": {
  "kernelspec": {
   "display_name": "Python 3",
   "language": "python",
   "name": "python3"
  },
  "language_info": {
   "codemirror_mode": {
    "name": "ipython",
    "version": 3
   },
   "file_extension": ".py",
   "mimetype": "text/x-python",
   "name": "python",
   "nbconvert_exporter": "python",
   "pygments_lexer": "ipython3",
   "version": "3.6.2"
  }
 },
 "nbformat": 4,
 "nbformat_minor": 2
}
