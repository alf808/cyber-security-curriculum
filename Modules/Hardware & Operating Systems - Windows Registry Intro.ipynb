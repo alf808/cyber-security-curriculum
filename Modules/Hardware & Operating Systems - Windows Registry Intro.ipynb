{
 "cells": [
  {
   "cell_type": "markdown",
   "metadata": {},
   "source": [
    "# Windows Registry Intro\n",
    "\n",
    "#### 1. Topics/Sub-Topics\n",
    "- What is the Windows Registry\n",
    "    - What purpose does it serve\n",
    "- What are the main root keys in the registry and their purpose\n",
    "    - HKEY_CLASSES_ROOT - Class Object ID definitions\n",
    "    - HKEY_CURRENT_USER - Current logged on user settings \n",
    "    - HKEY_USERS - Current settings per user created on system\n",
    "    - HKEY_LOCAL_MACHINE - All program and non-user data stored on a system\n",
    "    - HKEY_CURRENT_CONFIG - Rarely touched but is an overflow of sorts for values in HKEY_LOCAL_MACHINE  \n",
    "    - Standard nonmenclature:\n",
    "        - HKCR\n",
    "        - HKCU\n",
    "        - HKLM\n",
    "        - HKCC\n",
    "- What are root keys, subkeys and values\n",
    "- How to access the Windows Registry with regedt32\n",
    "- How to read, search, edit Windows Registry values\n",
    "- What are the types of values stored in the registry\n",
    "- What is a class object?\n",
    "    - Set of functions that defines the set of functions you can use to interact with an object of a certain type\n",
    "- How to backup the registry\n",
    "- How to hack the registry\n",
    "- How to defend the registry\n",
    "- What are .reg files?\n",
    "    - How to make .reg files/registry key backups\n",
    "    - How to import .reg files\n",
    "- How to script registry queries\n",
    "- How to monitor or clean registry\n",
    "    \n",
    "\n",
    "#### 2. Pre-requisites\n",
    "- Windows Installation\n",
    "- Windows Virtual Machine (Should not run on host)\n",
    "\n",
    "#### 3. Desired Outcomes\n",
    "- Students understand the \n",
    "\n",
    "#### 4. Resources\n",
    "[reg.exe Documentation](https://technet.microsoft.com/en-us/library/bb490984.aspx)\n",
    "\n",
    "\n",
    "#### 5. Challenges/Exercises\n",
    "\n",
    "\n",
    "#### 6. Self Study Objectives\n",
    "\n",
    "\n",
    "#### 7. Estimated Time\n",
    "\n",
    "#### 8. Applicable Standards\n",
    "If there are any publicly available standards that can be mapped to this module they should be identified here.\n",
    "\n"
   ]
  },
  {
   "cell_type": "code",
   "execution_count": null,
   "metadata": {
    "collapsed": true
   },
   "outputs": [],
   "source": []
  }
 ],
 "metadata": {
  "kernelspec": {
   "display_name": "Python 3",
   "language": "python",
   "name": "python3"
  },
  "language_info": {
   "codemirror_mode": {
    "name": "ipython",
    "version": 3
   },
   "file_extension": ".py",
   "mimetype": "text/x-python",
   "name": "python",
   "nbconvert_exporter": "python",
   "pygments_lexer": "ipython3",
   "version": "3.6.2"
  }
 },
 "nbformat": 4,
 "nbformat_minor": 2
}
