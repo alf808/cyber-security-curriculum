{
 "cells": [
  {
   "cell_type": "markdown",
   "metadata": {},
   "source": [
    "# Scanning - Basics of Sniffing \n",
    "\n",
    "#### 1. Topics/Sub-Topics\n",
    "    - What is network sniffing\n",
    "    - What are the different wireless card probe modes?\n",
    "        - active - send probes to routers around and await response\n",
    "        - passive - tune in to channels 1 by 1 and listen for traffic\n",
    "    - What do you look for as an attacker?\n",
    "    - What do you look for as an administrator?\n",
    "    - Common Tools and Usage\n",
    "\n",
    "#### 2. Pre-requisites\n",
    "- Basic understanding of network topologies\n",
    "- Basic understanding of network packets\n",
    "- Basic understanding of basic network protocols\n",
    "\n",
    "#### 3. Desired Outcomes\n",
    "\n",
    "#### 4. Resources\n",
    "    - [Baylor Sniffing FAQ & Use Cases](http://cs.baylor.edu/~donahoo/tools/sniffer/sniffingFAQ.htm)\n",
    "    - [Comparison of Packet Analyzers](https://en.wikipedia.org/wiki/Comparison_of_packet_analyzers)\n",
    "    - Wigle.net\n",
    "    - Netstumbler\n",
    "    - Kismet\n",
    "    - Net Surveyor\n",
    "    - [Anti-Sniff](https://packetstormsecurity.com/sniffers/antisniff/)\n",
    "    - How to Put Mac Wireless Card in Monitor Mode - https://unix.stackexchange.com/questions/48671/how-to-put-mac-os-x-wireless-adapter-in-monitor-mode\n",
    "\n",
    "#### 5. Challenges/Exercises\n",
    "- Explore facility with kismet scanner to detect signal strength, rogue access points, discover networks, etc...\n",
    "\n",
    "#### 6. Self Study Objectives\n",
    "\n",
    "#### 7. Estimated Time\n",
    "\n",
    "#### 8. Applicable Standards\n",
    "    \n"
   ]
  }
 ],
 "metadata": {
  "kernelspec": {
   "display_name": "Python 3",
   "language": "python",
   "name": "python3"
  },
  "language_info": {
   "codemirror_mode": {
    "name": "ipython",
    "version": 3
   },
   "file_extension": ".py",
   "mimetype": "text/x-python",
   "name": "python",
   "nbconvert_exporter": "python",
   "pygments_lexer": "ipython3",
   "version": "3.6.2"
  }
 },
 "nbformat": 4,
 "nbformat_minor": 2
}
