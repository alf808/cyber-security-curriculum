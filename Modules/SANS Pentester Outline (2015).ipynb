{
 "cells": [
  {
   "cell_type": "markdown",
   "metadata": {},
   "source": [
    "### SANS Pen Tester Outline\n",
    "https://apelbaum.wordpress.com/tag/netcat/\n",
    "\n",
    "- RootKits and detection \n",
    "- Hidden file detection with LADS \n",
    "- HTTP Reverse Shells using Base64 \n",
    "- InSSIDer for Wireless LAN discovery \n",
    "- Nmap Port Scanner and Operating System fingerprinting tool \n",
    "- Nessus Vulnerability Scanner \n",
    "- Windows Command Line Kung-Fu for extracting Windows data through SMB sessions \n",
    "- Sniffers, including Tcpdump \n",
    "- Sniffer detection tools, including ifconfig, ifstatus, and promiscdetect \n",
    "- Netcat for transferring files, creating backdoors, and setting up relays \n",
    "- Metasploit, Metasploit, Metasploit Lots of Metasploit \n",
    "- ARP and MAC analysis for ARP cache poisoning attack detection \n",
    "- Password cracking \n",
    "- Cross-site scripting and SQL injection web application attacks \n",
    "- Intercepting and forging session cookies \n",
    "- Detecting and executing DoS attacks techniques \n",
    "- Detecting backdoors with Netstat, lsof \n",
    "- Covert channels using Covert TCP \n",
    "- clandestine network scanning and mapping \n",
    "- Exploitation using built in OS commands \n",
    "- Privilege escalation \n",
    "- Advanced pivoting techniques"
   ]
  }
 ],
 "metadata": {
  "kernelspec": {
   "display_name": "Python 3",
   "language": "python",
   "name": "python3"
  },
  "language_info": {
   "codemirror_mode": {
    "name": "ipython",
    "version": 3
   },
   "file_extension": ".py",
   "mimetype": "text/x-python",
   "name": "python",
   "nbconvert_exporter": "python",
   "pygments_lexer": "ipython3",
   "version": "3.6.2"
  }
 },
 "nbformat": 4,
 "nbformat_minor": 2
}
