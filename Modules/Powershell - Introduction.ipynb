{
 "cells": [
  {
   "cell_type": "markdown",
   "metadata": {},
   "source": [
    "# Powershell - Introduction\n",
    "\n",
    "#### 1. Topics/Sub-Topics\n",
    "\n",
    "- Introduction to Powershell\n",
    "    - How It Works\n",
    "    - Understanding cmdlets\n",
    "        - Verb-Noun Naming Convention\n",
    "    - Getting Help and More Info \n",
    "        - https://docs.microsoft.com/en-us/powershell/scripting/getting-started/fundamental/getting-detailed-help-information?view=powershell-6\n",
    "    - https://docs.microsoft.com/en-us/powershell/scripting/getting-started/fundamental/getting-information-about-commands?view=powershell-6\n",
    "    - Exploring Commands\n",
    "        - Get-Command -Noun Service\n",
    "    - Getting Help(Help Flag)\n",
    "        - Get-Servive -?\n",
    "        - Get-Help Get-Process -Example\n",
    "    - Common Parameters\n",
    "    - Command Objects vs Text-Based \n",
    "        - Piping objects\n",
    "        - Getting Info on full objects\n",
    "    - Aliasing\n",
    "        - Get-Alias command\n",
    "        - Ad-hoc alias syntax\n",
    "            - gl -> Get-Location\n",
    "        - Set-Alias\n",
    "    - Variables\n",
    "        - PS> $pwd\n",
    "        - PS> $pwd = Get-Location\n",
    "        - Get-Member to get info about variable\n",
    "        - Remove-Variable\n",
    "        - Get-Variable to see existing variables in memory\n",
    "        - env: to see standard cmd.exe variables\n",
    "\n",
    "#### 2. Pre-requisites\n",
    "\n",
    "\n",
    "#### 3. Desired Outcomes\n",
    "\n",
    "#### 4. Resources\n",
    "[Powershell Official Docs](https://docs.microsoft.com/en-us/powershell/scripting/getting-started/fundamental/about-windows-powershell?view=powershell-6)\n",
    "\n",
    "#### 5. Challenges/Exercises\n",
    "\n",
    "#### 6. Self Study Objectives\n",
    "\n",
    "#### 7. Estimated Time\n",
    "\n",
    "#### 8. Applicable Standards\n",
    "\n"
   ]
  }
 ],
 "metadata": {
  "kernelspec": {
   "display_name": "Python 3",
   "language": "python",
   "name": "python3"
  },
  "language_info": {
   "codemirror_mode": {
    "name": "ipython",
    "version": 3
   },
   "file_extension": ".py",
   "mimetype": "text/x-python",
   "name": "python",
   "nbconvert_exporter": "python",
   "pygments_lexer": "ipython3",
   "version": "3.6.2"
  }
 },
 "nbformat": 4,
 "nbformat_minor": 2
}
