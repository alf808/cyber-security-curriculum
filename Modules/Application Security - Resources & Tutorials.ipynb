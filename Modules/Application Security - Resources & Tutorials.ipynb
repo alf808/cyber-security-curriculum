{
 "cells": [
  {
   "cell_type": "markdown",
   "metadata": {
    "collapsed": true
   },
   "source": [
    "# Application Security - Resources & Tutorials\n",
    "\n",
    "### Security Checklists\n",
    "- [SSL/TLS Checklist](https://www.ssllabs.com/ssltest/)\n",
    "- [Mozilla Observatory Checklist](https://observatory.mozilla.org/)\n",
    "\n",
    "### Security Automation\n",
    "- [Test Driven Security - AppSec USA 2017 - Video](https://www.youtube.com/watch?v=1Nlbf7XXn7s)\n",
    "\n",
    "### Security Tools\n",
    "- [OWASP Zed Attack Proxy Project/ZAP](https://www.owasp.org/index.php/OWASP_Zed_Attack_Proxy_Project)"
   ]
  },
  {
   "cell_type": "code",
   "execution_count": null,
   "metadata": {
    "collapsed": true
   },
   "outputs": [],
   "source": []
  }
 ],
 "metadata": {
  "kernelspec": {
   "display_name": "Python 3",
   "language": "python",
   "name": "python3"
  },
  "language_info": {
   "codemirror_mode": {
    "name": "ipython",
    "version": 3
   },
   "file_extension": ".py",
   "mimetype": "text/x-python",
   "name": "python",
   "nbconvert_exporter": "python",
   "pygments_lexer": "ipython3",
   "version": "3.6.2"
  }
 },
 "nbformat": 4,
 "nbformat_minor": 2
}
