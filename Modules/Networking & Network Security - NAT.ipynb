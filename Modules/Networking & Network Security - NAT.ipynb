{
 "cells": [
  {
   "cell_type": "markdown",
   "metadata": {},
   "source": [
    "# Networking & Network Security - NAT\n",
    "\n",
    "\n",
    "Network Address Translation\n",
    "Classless Inter-Domain Routing (CIDR)- which is where the ISP gives you a block of addresses\n",
    "\n",
    "Original intention for NAT was to slow the depletion of available IP address space by allwoing many private IP addresses to be represented by some smaller number of public IP addresses.\n",
    "\n",
    "Since then it has been discovered that NAT is also a useful tool for network migrations and mergers, server load sharing and creatng virtual servers.\n",
    "\n",
    "- Decreases overwhelming amount of public IP addresses required in your networking environment\n",
    "- Good for merging IP Addresses\n",
    "- Good when a company changes its ISP and the network manager doesnt want the hassle of changing the interneal address scheme\n",
    "\n",
    "1. You need to connect to the interent and your hosts dont have globally unique IP Addresses\n",
    "1. You change ISP's that require you to remeber your network \n",
    "1. You need to merge two intarnets with duplicate addresses\n",
    "\n",
    "Static NAT\n",
    "- Designed to allow one-to-one mapping between local and global addresses\n",
    "- Your required to have one real internet IP address for every host on your network\n",
    "\n",
    "Dynamic NAT\n",
    "- This version allows you to map an unregistered IP address to a registered IP address from a pool of registered IP addresses\n",
    "- You dont have to statically configure your router to map an inside to an outside address, but you have real IP addresses for everyone who is going to be sending packets\n",
    "\n",
    "Overloading\n",
    "- Most popular\n",
    "- Form of dynamic NAT that maps multiple unregistered IP addresses to a singe registered IP address(many-to-one)\n",
    "- Also know as PAT: Port Address Translation \n",
    "- You get to have thousands of users connect to the internet using only one real global IP address\n",
    "- This is the real reason we have not run out of valid IP addresses on the interent\n",
    "\n",
    "Global Addresses\n",
    "- Addresses used after NAT translations are called global addresses\n",
    "- These are usually public addresses used on the interent \n",
    "\n",
    "\n",
    "Local Addresses\n",
    "- the ones we use before NAT translations\n",
    "\n",
    "\n",
    "Inside Local         Name of the inside source address before translation\n",
    "Outside Local        Name of the destination host before translation\n",
    "Inside Global        Name of the inside host after translation\n",
    "Outside Global       Name of the outside destination host after translation\n",
    "\n",
    "\n",
    "How does it work\n",
    "\n"
   ]
  }
 ],
 "metadata": {
  "kernelspec": {
   "display_name": "Python 3",
   "language": "python",
   "name": "python3"
  },
  "language_info": {
   "codemirror_mode": {
    "name": "ipython",
    "version": 3
   },
   "file_extension": ".py",
   "mimetype": "text/x-python",
   "name": "python",
   "nbconvert_exporter": "python",
   "pygments_lexer": "ipython3",
   "version": "3.6.3"
  }
 },
 "nbformat": 4,
 "nbformat_minor": 2
}
