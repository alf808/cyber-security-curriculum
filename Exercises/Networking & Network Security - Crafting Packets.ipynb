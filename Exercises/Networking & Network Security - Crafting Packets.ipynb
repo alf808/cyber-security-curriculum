{
 "cells": [
  {
   "cell_type": "markdown",
   "metadata": {},
   "source": [
    "Packets and Crafting Packets\n",
    "\n",
    "Packet crafting is the art of creating a packet according to various requirements to carry out attacks and to exploit vulnerabilities in a network. It’s mainly used to penetrate into a network’s structure. Packet crafting is not a simple task for beginners. It consists of following steps:\n",
    "\n",
    "\n",
    "1. Packet Assembly: Creating a new network packet or capture a packet going over the wire and editing the information as per requirement.\n",
    "2. Packet Editing: Editing the content of an existing packet\n",
    "3. Packet Re/Play: Send/Resend a packet in a network\n",
    "4. Packet decoding: Decode and analyze the content of the packet\n",
    "\n",
    "\n",
    "Requirements\n",
    "1 Linux machine with snort installed \n",
    "1 Linux machine with hping installed \n",
    "\n",
    "Hping- This is a utility that helps us to assemble and send ICMP, UDP or TCP packets and then display the results. It’s similar to the ping command, but it offers far more options to customize the packet to be sent. This helps to map the firewall set rules of a targeted system.\n",
    "\n",
    "\n",
    "Snort- Sort is a free network intrusion detection and prevention software. It helps us to carry out real time traffic analysis packet logging, protocol analysis, content searching, etc. on a network.\n",
    "\n",
    "Resources\n",
    "http://resources.infosecinstitute.com/packet-crafting-a-serious-crime/"
   ]
  }
 ],
 "metadata": {
  "kernelspec": {
   "display_name": "Python 3",
   "language": "python",
   "name": "python3"
  },
  "language_info": {
   "codemirror_mode": {
    "name": "ipython",
    "version": 3
   },
   "file_extension": ".py",
   "mimetype": "text/x-python",
   "name": "python",
   "nbconvert_exporter": "python",
   "pygments_lexer": "ipython3",
   "version": "3.6.3"
  }
 },
 "nbformat": 4,
 "nbformat_minor": 2
}
