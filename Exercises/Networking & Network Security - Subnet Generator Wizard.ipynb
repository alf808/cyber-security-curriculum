{
 "cells": [
  {
   "cell_type": "markdown",
   "metadata": {},
   "source": [
    "# Subnet Generator Wizard\n",
    "\n",
    "#### Objective\n",
    "HAAALLLPPP....I don't get it. Subnets and CIDR and borrowed bits and WTFFFFF?? All this network configuration is driving me nuts. Can you please help? \n",
    "\n",
    "I need a visual tool that helps me understand the intricacies of subnets and not have to think so hard. Can't I just put in some numbers and have everything calculated for me?\n",
    "\n",
    "#### Inputs\n",
    "* Question 1. What is the main network IP address?\n",
    "* Question 2. How many networks would you like to create?\n",
    "* Question 3. Would you like to include the main .0 network in your results?\n",
    "\n",
    "#### Output\n",
    "For the input received, we must display the following values:\n",
    "- The number of networks that *can* be created\n",
    "- Each network segment ID\n",
    "- Each networks range of available IP addresses\n",
    "- Each networks broadcast IP address\n",
    "- The calculated CIDR prefix subnet notation\n",
    "- The calculated subnet mask value\n",
    "\n",
    "You are free to be creative with your output, however the following format is suggested:\n",
    "\n",
    "```\n",
    "     128   64    32   |   16    8    4    2    1\n",
    "     \n",
    "N    2     4     8  --|   16    32   64   128  256\n",
    "\n",
    "H-2  256   128   64   |-- 32    16   8    4    2\n",
    "\n",
    "C/24 /25   /26   /27  |   /28   /29  /30  /31  /32\n",
    "\n",
    "Available Networks:\n",
    "Network ID:            Range:        Broadcast     \n",
    "xxx.xxx.xxx.xxx        .xxx-.xxx       xxx.xxx.xxx.xxx\n",
    "xxx.xxx.xxx.xxx        .xxx-.xxx       xxx.xxx.xxx.xxx\n",
    "\n",
    "Subnet Mask:\n",
    "xxx.xxx.xxx.xxx\n",
    "\n",
    "CIDR Notation:\n",
    "/xx\n",
    "```\n",
    "\n",
    "##### Things To Remember\n",
    "- The broadcast address is one less than the next network\n",
    "- Each subnet has two reserved addresses\n",
    "\n",
    "##### Stretch Goals\n",
    "- Add another input option for someone to pass you the network address and subnet mask as the only input and generate the same output above.\n",
    "- Add another input option for someone to pass you any IP address and the CIDR notation and generate the same output above.\n",
    "- Add another input option for someone to pass you TWO IP addresses and their CIDR notation and determine if they are in the same network.\n",
    "\n",
    "#### Related Resources\n",
    "https://www.youtube.com/watch?v=MkTI_O2fRUw"
   ]
  },
  {
   "cell_type": "code",
   "execution_count": null,
   "metadata": {
    "collapsed": true
   },
   "outputs": [],
   "source": []
  }
 ],
 "metadata": {
  "kernelspec": {
   "display_name": "Python 3",
   "language": "python",
   "name": "python3"
  },
  "language_info": {
   "codemirror_mode": {
    "name": "ipython",
    "version": 3
   },
   "file_extension": ".py",
   "mimetype": "text/x-python",
   "name": "python",
   "nbconvert_exporter": "python",
   "pygments_lexer": "ipython3",
   "version": "3.6.2"
  }
 },
 "nbformat": 4,
 "nbformat_minor": 2
}
