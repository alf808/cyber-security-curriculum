{
 "cells": [
  {
   "cell_type": "markdown",
   "metadata": {},
   "source": [
    "## Networking Survival Kit\n",
    "\n",
    "## Scenario:\n",
    " You are a security professional that has been hired to carry out an investigation into a recent security breach of Arch industries. Upon initial scan of equipment, you have determined their system is severly outdated and contains none of the standard network cli tools and applications you normally have to perform your duties. Guess you will have to build your own!!!!!!\n",
    "    \n",
    "## Your Task:\n",
    " You are to use your knowledge of networking and scripting to build basic networking tools in order to complete your job. Below are your details if you choose to accept.\n",
    "    \n",
    "## Required Tooling/Specs\n",
    "\n",
    "**1. System Info Tool** - This tool will grab the hostname of the target machine.\n",
    "  - This tool will need to use the socket module.\n",
    "  - It will print the hostname to stdout in the format of: \"The hostname is: NoSoupForYou\"\n",
    "\n",
    "**2. IP Mapping** - This tool will return the corresponding IP address of any domain entered.\n",
    "  - This tool will make use of the socket module.\n",
    "  - It will take stdin from the user and return the IP address in the format of: \"The IP address of target is: 58.65.22.14\"\n",
    "    \n",
    "**3. Port Scanner** - This tool will scan for open ports on any domain or IP and return a report when completed.\n",
    " - This tool will make use of the socket and sys modules.\n",
    " - It will be able to scan any range of ports.\n",
    " - It will generate a report in the format of: \"Port 80: OPEN\"\n",
    " \n",
    "**4. Client Browser** - This tool will act as your client browswer to pull html from any domain.\n",
    "  - This tool will make use of the urllib module.\n",
    "  - It will be able to print the url, status code of request, request header info, server info, and the html.\n",
    "      \n",
    "**5. Mac Address Lookup** - This tool will return information on mac addressses.\n",
    "  - This tool will use the urllib2, json, and codecs modules.\n",
    "  - This tool will make an api call with mac address to http://macvendors.co/api\n",
    "  - It will take stndin from user.\n",
    "  - It will return a report in format of: \"Company Name, Address\".\n",
    "  \n",
    "**6. Data Collector** - This tool will automate transfering of data for all your findings.\n",
    "  - This tool will make use of the open() method.\n",
    "  - It will be able to save your findings to a standard .txt file when invoked with appropriate formatting in a report format.\n",
    "  - HINT: You will need to store results of other tools for this tool to work.\n",
    "  \n",
    "### Resources\n",
    " - Python Functons https://www.learnpython.org/en/Functions\n",
    " - Python Loops & Conditionals http://www.openbookproject.net/books/bpp4awd/ch04.html\n",
    " - Importing Python Modules https://docs.python.org/2/tutorial/modules.html\n",
    " - Reading/Writing Files https://docs.python.org/2/tutorial/inputoutput.html#reading-and-writing-files\n",
    " - Python Socket Module https://docs.python.org/3/library/socket.html\n",
    " - Raw_Input https://docs.python.org/2/library/functions.html#raw_input\n",
    " - NSlookup http://www.kloth.net/services/nslookup.php\n",
    " \n",
    "### Stretch Goals\n",
    "  - Write a function that will keep track of how long each tool takes to complete its task. This should be an optional flag that can be toggled on or off.\n",
    "  - Optimize performance/speed of port scanner.\n",
    "  - Merge all individual tools into one tool that can be executed.\n",
    "  - Add error handling such as keyboard interrupt."
   ]
  }
 ],
 "metadata": {
  "kernelspec": {
   "display_name": "Python 3",
   "language": "python",
   "name": "python3"
  },
  "language_info": {
   "codemirror_mode": {
    "name": "ipython",
    "version": 3
   },
   "file_extension": ".py",
   "mimetype": "text/x-python",
   "name": "python",
   "nbconvert_exporter": "python",
   "pygments_lexer": "ipython3",
   "version": "3.6.2"
  }
 },
 "nbformat": 4,
 "nbformat_minor": 2
}
