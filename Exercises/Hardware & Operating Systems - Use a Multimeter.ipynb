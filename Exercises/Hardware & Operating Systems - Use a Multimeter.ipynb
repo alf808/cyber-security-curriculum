{
 "cells": [
  {
   "cell_type": "markdown",
   "metadata": {},
   "source": [
    "# Use a Multimeter to Test AC Outlets\n",
    "\n",
    "1. Move the selector switch to the AC V (usually red). If multiple settings are available put it into the first scale higher than 120 V (usually 200 V). Auto-range meters set their own range; they don't need any selection.\n",
    "1. Place the black lead in the common (-) hole. If the black lead is permanently attached, ignore this step.\n",
    "1. Place the red lead in the V-Ohm-A(+) hole. If the read lead is permanently attached ignore this step.\n",
    "\n",
    "Once you have the meter set up for AC, go through the process of testing the various wires on an AC socket. Just don't put your fingers on the metal parts of the lead when you stick them into the socket!! Follow these steps:\n",
    "\n",
    "1. Put either lead in hot, the other in neutral. You should read 110 to 120 V AC.\n",
    "1. Put either lead in hot, the other in ground. You should read 110 to 120 V AC.\n",
    "1. Put either lead in neutral, the other in ground. You should read 0 V AC.\n",
    "\n",
    "#### Optional- Test the DC voltage of a Power Supply\n",
    "1. Switch your multimeter to DC, somewhere around 20 V DC. Make sure your leads are plugged into the multimeter properly: red to hot, black to ground. The key to testing DC is that which leads you to touch which wire matters. **Black always goes to ground.**\n",
    "1. Plug the red lead into the red wire socket of a free molex connector and plug the black lead into one of the two black wire sockets. You should get a reading of -5 V. What do you get?\n",
    "1. Now move the red lead to the yellow socket. What voltage do you get? \n",
    "1. Testing the P1 connector is a little more complicated. You push the red and black leads into the top of P1, sliding alongside the wires until you bottom out. Leave the black lead in one of the black wire ground sockets. \n",
    "1. Move the read lead through all of the colored wire sockets. What voltage do you get?\n"
   ]
  }
 ],
 "metadata": {
  "kernelspec": {
   "display_name": "Python 3",
   "language": "python",
   "name": "python3"
  },
  "language_info": {
   "codemirror_mode": {
    "name": "ipython",
    "version": 3
   },
   "file_extension": ".py",
   "mimetype": "text/x-python",
   "name": "python",
   "nbconvert_exporter": "python",
   "pygments_lexer": "ipython3",
   "version": "3.6.2"
  }
 },
 "nbformat": 4,
 "nbformat_minor": 2
}
