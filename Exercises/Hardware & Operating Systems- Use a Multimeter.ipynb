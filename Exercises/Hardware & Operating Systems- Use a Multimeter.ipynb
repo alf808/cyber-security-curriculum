{
 "cells": [
  {
   "cell_type": "markdown",
   "metadata": {},
   "source": [
    "# Use a Multimeter to Test AC Outlets\n",
    "\n",
    "1. Move the selector switch to the AC V (usually red). If multiple settings are available put it into the first scale higher than 120 V (usually 200 V). Auto-range meters set their own range; they dont need any selection.\n",
    "1. Place the black lead in the common (-) hole. If the black lead is permanatly attached, ignore this step.\n",
    "1. Place the red lead in the V-Ohm-A(+) hole. If the read lead is permantly atached ignore this step.\n",
    "\n",
    "Once you have the meter set up for AC, go through the process of testing the varios wires on an AC socke. Just dont put your fingers on the metal parts od the lead when you stick them into the socket!! Follow these steps:\n",
    "\n",
    "1. Put either lead in hot, the other in neutral. You should read 110 to 120 V AC.\n",
    "1. Put either lead in hot, the other in ground. You should read 110 to 120 V AC.\n",
    "1. Put either lead in neutral, the other in ground. You should read 0 V AC."
   ]
  }
 ],
 "metadata": {
  "kernelspec": {
   "display_name": "Python 3",
   "language": "python",
   "name": "python3"
  },
  "language_info": {
   "codemirror_mode": {
    "name": "ipython",
    "version": 3
   },
   "file_extension": ".py",
   "mimetype": "text/x-python",
   "name": "python",
   "nbconvert_exporter": "python",
   "pygments_lexer": "ipython3",
   "version": "3.6.3"
  }
 },
 "nbformat": 4,
 "nbformat_minor": 2
}
