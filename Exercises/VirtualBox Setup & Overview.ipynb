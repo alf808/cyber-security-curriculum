{
 "cells": [
  {
   "cell_type": "markdown",
   "metadata": {},
   "source": [
    "# VirtualBox Setup & Overview\n",
    "\n",
    "### Installing an .iso\n",
    "\n",
    "### Installing a .vbo\n",
    "\n",
    "### Virtual Image Disk Types\n",
    "\n",
    "### Disk Space Considerations\n",
    "\n",
    "### Installing Guest Additions\n",
    "\n",
    "### Full Screen Mode\n",
    "\n",
    "### Copy/Paste \n",
    "\n",
    "### Drag/Drop\n",
    "\n",
    "### Shared Directories\n",
    "\n",
    "### Master Image Creation\n",
    "\n",
    "### Cloning Images\n",
    "\n",
    "### Grouping Images\n",
    "\n",
    "### Network Settings\n",
    "\n",
    "### Custom Networks\n",
    "\n",
    "### Running in Headless"
   ]
  }
 ],
 "metadata": {
  "kernelspec": {
   "display_name": "Python 3",
   "language": "python",
   "name": "python3"
  },
  "language_info": {
   "codemirror_mode": {
    "name": "ipython",
    "version": 3
   },
   "file_extension": ".py",
   "mimetype": "text/x-python",
   "name": "python",
   "nbconvert_exporter": "python",
   "pygments_lexer": "ipython3",
   "version": "3.6.2"
  }
 },
 "nbformat": 4,
 "nbformat_minor": 2
}
