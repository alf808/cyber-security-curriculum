{
 "cells": [
  {
   "cell_type": "markdown",
   "metadata": {},
   "source": [
    "Pre-requisites:\n",
    "    - Basic network understanding\n",
    "    - Virtualbox w/ Kali\n",
    "    - Nmap\n",
    "    \n",
    "Desired Outcome(s):\n",
    "\n",
    "    \n",
    "#### Setup:\n",
    "\n",
    "1. Open VirtualBox\n",
    "1. Select the Network tab on your Kali virtual machine\n",
    "1. Select the `Bridged Adapter` option in the `Attached to:` drop down menu\n",
    "1. Click the Advanced option\n",
    "1. Select the `Allow All` option in the `Promiscuous Mode:` drop down menu \n",
    "\n",
    "![title](img/virtualbox-bridge-network-setup.png)\n",
    "\n",
    "1. Start Kali3 virtual machine \n",
    "1. Open a terminal and take note of your current assigned IP address using: `ifconfig`\n",
    "\n",
    "![title](img/kali-ifconfig.png)\n",
    "\n",
    "**NOTE:** In some cases with VirtualBox it will use a IPv6 address and `icmpv6` method for pings. You may need to take note of your IPv6 address to filter the packets in Wireshark.\n",
    "\n",
    "1. Open a terminal and take not of your current assigned private IPv6 address using: `ip -6 addr`\n",
    "![title](img/kali-ipv6-config.png)\n",
    "\n",
    "\n",
    "1. Start Wireshark on your **HOST** operating system\n",
    "1. On the start screen select your wireless interface of your **HOST** operating system\n",
    "1. In the `...using this filter:` box under the `Capture` section enter the following filter to only capture traffic from our Kali virtual machine\n",
    "1. Enter the following value: `icmp or icmp6`\n",
    "![title](img/kali-ipv6-config.png)\n",
    "\n",
    "1. Hit Enter or click on the `Start capturing packets` button' to start your capture session\n",
    "1. On your **HOST** operating system, start a terminal session and run: `ping google.com`\n",
    "1. On your **GUEST** operating system, start a terminal session and run: `ping google.com`\n",
    "1. Analyze the results and take note of the following:\n",
    "    * Echo request/reply pairs\n",
    "    * ICMP packet structure\n",
    "    * Both Ethernet address and IP address\n",
    "\n",
    "#### Try On Your Own\n",
    "1. Try to change your filter to use your IP address and show traffic only from one host\n",
    "1. Try to modify the names of the hosts to more easily identify which machine(s) traffic is going to/from\n",
    "\n",
    "\n",
    "TODO: Test on Windows machine w/ wireless card that may not support promiscuous mode"
   ]
  },
  {
   "cell_type": "code",
   "execution_count": null,
   "metadata": {
    "collapsed": true
   },
   "outputs": [],
   "source": []
  }
 ],
 "metadata": {
  "kernelspec": {
   "display_name": "Python 3",
   "language": "python",
   "name": "python3"
  },
  "language_info": {
   "codemirror_mode": {
    "name": "ipython",
    "version": 3
   },
   "file_extension": ".py",
   "mimetype": "text/x-python",
   "name": "python",
   "nbconvert_exporter": "python",
   "pygments_lexer": "ipython3",
   "version": "3.6.2"
  }
 },
 "nbformat": 4,
 "nbformat_minor": 2
}
