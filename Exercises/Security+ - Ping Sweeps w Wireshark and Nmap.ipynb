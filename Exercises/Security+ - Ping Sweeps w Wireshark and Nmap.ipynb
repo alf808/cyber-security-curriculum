{
 "cells": [
  {
   "cell_type": "markdown",
   "metadata": {},
   "source": [
    "Pre-requisites:\n",
    "    - Basic network understanding\n",
    "    - Virtualbox w/ Kali\n",
    "    - Nmap\n",
    "    - Local packet trace directory\n",
    "    \n",
    "Steps:\n",
    "\n",
    "1. Open VirtualBox\n",
    "1. Select the Network tab on your Kali virtual machine\n",
    "1. Select the `Bridged Adapter` option in the `Attached to:` drop down menu\n",
    "1. Click the Advanced option\n",
    "1. Select the `Allow All` option in the `Promiscuous Mode:` drop down menu \n",
    "\n",
    "![title](img/virtualbox-bridge-network-setup.png)\n",
    "\n",
    "1. Start Kali3 virtual machine \n",
    "1. Open a terminal and take note of your current assigned IP address using `ifconfig`\n",
    "\n",
    "![title](img/kali-ifconfig.png)\n",
    "\n",
    "1. Start Wireshark on your **HOST** operating system\n",
    "1. On the start screen select your wireless interface of your **HOST** operating system\n",
    "1. In the `...using this filter:` box under the `Capture` section enter the following filter to only capture traffic from our Kali virtual machine\n",
    "1. Enter the following value: \n",
    "1. Start capturing packets\n",
    "\n",
    "\n",
    "TODO: Test on Windows machine w/ wireless card that may not support promiscuous mode"
   ]
  }
 ],
 "metadata": {
  "kernelspec": {
   "display_name": "Python 3",
   "language": "python",
   "name": "python3"
  },
  "language_info": {
   "codemirror_mode": {
    "name": "ipython",
    "version": 3
   },
   "file_extension": ".py",
   "mimetype": "text/x-python",
   "name": "python",
   "nbconvert_exporter": "python",
   "pygments_lexer": "ipython3",
   "version": "3.6.2"
  }
 },
 "nbformat": 4,
 "nbformat_minor": 2
}
