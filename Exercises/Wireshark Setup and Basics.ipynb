{
 "cells": [
  {
   "cell_type": "markdown",
   "metadata": {},
   "source": [
    "### Wireshark Filters\n",
    "- https://wiki.wireshark.org/CaptureFilters\n",
    "- https://www.wireshark.org/docs/man-pages/wireshark-filter.html\n",
    "\n",
    "#### Comparison Operators\n",
    "\n",
    "\n",
    "Examples: \n",
    "    - not ip.src_host eq MacBook-Pro-4.local && not ip.dst_host eq MacBook-Pro-4.local\n",
    "    - http or ssl\n",
    "    \n",
    "### Enable Name Resolution\n",
    "We want to be able to use DNS to see the names of hosts if possible in our captures, to enable all Name Resolution go to: `Preferences->Name Resolution` and make sure the following boxes are checked:\n",
    "\n",
    "    * Resolve transport names\n",
    "    * Resolve MAC addresses\n",
    "    * Resolve network (IP) addresses\n",
    "    \n",
    "![Wireshark Name Resolution](img/wireshark-name-resolution-settings.png)\n",
    "\n",
    "### Create Directory to Save Packet Captures\n",
    "* Create a `captures` directory in your `DevLeague` directory\n",
    "\n",
    "### Geo IP Database Download & Setup\n",
    "\n",
    "* Create a directory called `GeoIP` in your `captures` directory where \n",
    "\n",
    "* Go to https://dev.maxmind.com/geoip/legacy/geolite/\n",
    "\n",
    "* Download all of the files in the Downloads sections to your `captures\\GeoIP` folder\n",
    "\n",
    "![title](img/wireshark-geoip-list.png)\n",
    "\n",
    "* Browse to your directory folder in a terminal session and run the following commands to decompress the `gzip` files\n",
    "\n",
    "![title](img/geoip-extract.png)\n",
    "\n",
    "* Open your Wireshark->Preferences window\n",
    "\n",
    "![title](img/wireshark-preferences-name-resolution.png)\n",
    "\n",
    "* Click on the `GeoIP database directories` Edit\n",
    "\n",
    "* Add your `DevLeague/captures/GeoIP` directory to Wireshark (image has different path, use **YOURS**)\n",
    "\n",
    "![title](img/wireshark-geoip-directory.png)\n",
    "\n",
    "* You should now be able to see GeoIP location data in your scan results\n",
    "\n",
    "![title](img/wireshark-geoip-result.png)"
   ]
  }
 ],
 "metadata": {
  "kernelspec": {
   "display_name": "Python 3",
   "language": "python",
   "name": "python3"
  },
  "language_info": {
   "codemirror_mode": {
    "name": "ipython",
    "version": 3
   },
   "file_extension": ".py",
   "mimetype": "text/x-python",
   "name": "python",
   "nbconvert_exporter": "python",
   "pygments_lexer": "ipython3",
   "version": "3.6.2"
  }
 },
 "nbformat": 4,
 "nbformat_minor": 2
}
