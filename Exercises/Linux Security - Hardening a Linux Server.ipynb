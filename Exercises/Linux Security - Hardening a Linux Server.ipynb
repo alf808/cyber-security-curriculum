{
 "cells": [
  {
   "cell_type": "markdown",
   "metadata": {},
   "source": [
    "# Linux Security - Hardening a Linux Server (Team Based Drill)\n",
    "\n",
    "Aloha Teams,\n",
    "\n",
    "We are in dire need of some true SysBadmins to secure our systems. We are looking for the most efficient and knowledgable team that can jump into a fresh Ubuntu Linux 16.04 install and ensure max security on multiple levels.\n",
    "\n",
    "Your mission is as follows:\n",
    "\n",
    "### User Account Management\n",
    "  - Create users for everyone on your team, and continue all further operations under your respective user account\n",
    "  - Create a `dbs` group and add specific users in your team to that group\n",
    "  - Create a `webmasters` group and add specific users in your team to that group\n",
    "\n",
    "### System Security Updates  \n",
    "  - Update your server w/ latest security patches\n",
    "  \n",
    "### SSH Access\n",
    "  - Ensure that SSH service is running\n",
    "  - Generate a password-protected SSH key for each user\n",
    "  - Verify you can connect to your guest via SSH from your host machine\n",
    "  - Once verified, start your machine in a headless state and run all futher operations remotely from your host in an SSH terminal\n",
    "  - Add your SSH key to the SSH agent so that you are not asked for your password again for 60 minutes(might not work on Windows)\n",
    "  - Disable root login for SSH\n",
    "  - Ensure that only SSH Protocol 2 is allowed\n",
    "  - Ensure that passwords cannot be used for remote login\n",
    "\n",
    "### Sudo Access Control\n",
    "  - Install MySQL and ensure using `sudo` that only users of the `dbs` group can interact with the `mysql` binary\n",
    "  - Install Nginx and write a wrapper bash script that only people in the `webmasters` group only have the ability `restart` the `nginx` service. Place this script in a reasonable location on disk.\n",
    "  - Using the same method allow one member of your team to have the ability to `start` and `stop` the Nginx process. Place this script in a reasonable location on disk.\n",
    "  - Create a new group with one person in it to be able to `start` and `stop` the App Armor process. Place this script in a reasonable location on disk.\n",
    "  \n",
    "### Remote Logging\n",
    "  - Setup remote logging with `rsyslog` on another machine on your network and set your server to write logs to that server via TCP. Why would you use TCP over UDP?\n",
    "  - Setup TLS encryption for clients sending data to your rsyslog server\n",
    "  - Setup your remote logging server to only allow logs from the your source machine\n",
    "  - On your remote server, ensure that logs are stored in separate files based on the host they came from\n",
    "  \n",
    "### Two Factor Authentication and PAM\n",
    "  - Setup Two-Factor Authentication with SSH using Google Authenticator. See if you can have a QR code generated when setting up your secret key. NOTE: Make sure you setup your PAM settings properly.\n",
    "  \n",
    "### NTP Replacement \n",
    "  - Setup `tlsdate` as a secure alternative to NTP and be prepared to answer why you might need to use this package over NTP from a security point of view."
   ]
  },
  {
   "cell_type": "markdown",
   "metadata": {},
   "source": [
    "### Resources\n",
    "- http://terraltech.com/securing-your-rsyslog-and-loganalyzer/\n",
    "- [rsync vulnerabilities](https://www.cvedetails.com/vulnerability-list.php?vendor_id=3361&product_id=0&version_id=0&page=1&hasexp=0&opdos=0&opec=0&opov=0&opcsrf=0&opgpriv=0&opsqli=0&opxss=0&opdirt=0&opmemc=0&ophttprs=0&opbyp=0&opfileinc=0&opginf=0&cvssscoremin=0&cvssscoremax=0&year=0&month=0&cweid=0&order=3&trc=10&sha=6ea5ddc1d7d850fea596922757e6c8c8903f5fff)\n",
    "- [timesync vulnerablities](http://securityvulns.com/advisories/timesync.asp)"
   ]
  },
  {
   "cell_type": "code",
   "execution_count": null,
   "metadata": {
    "collapsed": true
   },
   "outputs": [],
   "source": []
  }
 ],
 "metadata": {
  "kernelspec": {
   "display_name": "Python 3",
   "language": "python",
   "name": "python3"
  },
  "language_info": {
   "codemirror_mode": {
    "name": "ipython",
    "version": 3
   },
   "file_extension": ".py",
   "mimetype": "text/x-python",
   "name": "python",
   "nbconvert_exporter": "python",
   "pygments_lexer": "ipython3",
   "version": "3.6.2"
  }
 },
 "nbformat": 4,
 "nbformat_minor": 2
}
